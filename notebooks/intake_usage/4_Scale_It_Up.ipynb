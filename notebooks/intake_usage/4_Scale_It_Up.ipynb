{
 "cells": [
  {
   "cell_type": "markdown",
   "id": "d57066a3-2819-4b25-9a60-e4625911f4c2",
   "metadata": {},
   "source": [
    "# Example notebook of how analysis can be scaled up"
   ]
  },
  {
   "cell_type": "code",
   "execution_count": null,
   "id": "c651db9b-4bfb-4832-bb55-0f48e3580f67",
   "metadata": {},
   "outputs": [],
   "source": [
    "import sys\n",
    "sys.path.append('/home/jovyan/intake-aodn')\n",
    "import intake_aodn\n",
    "import intake"
   ]
  },
  {
   "cell_type": "markdown",
   "id": "4744a9ce-33ce-4bfe-ab70-321291f85d31",
   "metadata": {},
   "source": [
    "## Request a cluster with 2 CPU per worker, 4GB ram per worker, and allow to scale up to 256 workers"
   ]
  },
  {
   "cell_type": "code",
   "execution_count": null,
   "id": "6ac0f956-7629-4939-8b7c-d4d4bdeebbb1",
   "metadata": {},
   "outputs": [],
   "source": [
    "from intake_aodn.utils import get_distributed_cluster\n",
    "client = get_distributed_cluster(worker_cores=2,\n",
    "                                 worker_memory=4,\n",
    "                                 min_workers=1,\n",
    "                                 max_workers=256)\n",
    "client"
   ]
  },
  {
   "cell_type": "markdown",
   "id": "45b17fc8-85a9-4027-a6af-da723e421826",
   "metadata": {},
   "source": [
    "# Open 20 years of MODIS Chl-a across all of Australia"
   ]
  },
  {
   "cell_type": "code",
   "execution_count": null,
   "id": "ab4e50d6-4986-48db-b88e-5230ebeb49e0",
   "metadata": {},
   "outputs": [],
   "source": [
    "cat=intake_aodn.cat"
   ]
  },
  {
   "cell_type": "code",
   "execution_count": null,
   "id": "291a7124-a1c4-4706-9172-91610a47d72d",
   "metadata": {},
   "outputs": [],
   "source": [
    "ds=cat.aodn_s3.MODIS_1d_chl_oc3(startdt='2002-01-01',\n",
    "                                enddt='2021-06-30',\n",
    "                                cropto=dict(longitude=slice(107.,160),\n",
    "                                            latitude=slice(-9,-45))).to_dask()"
   ]
  },
  {
   "cell_type": "code",
   "execution_count": null,
   "id": "99450639-9420-43c1-ad10-ac8e8701e4ce",
   "metadata": {},
   "outputs": [],
   "source": [
    "ds"
   ]
  },
  {
   "cell_type": "code",
   "execution_count": null,
   "id": "c0f95419-efb9-47a2-a929-5d2ea3aba7ba",
   "metadata": {},
   "outputs": [],
   "source": [
    "print(f'{ds.nbytes/1E9:.3f} GB')"
   ]
  },
  {
   "cell_type": "markdown",
   "id": "1df80139-78f5-4c9b-8645-315ffb77d455",
   "metadata": {},
   "source": [
    "## The data can be loaded dynamically from S3 into cluster memory for interactive viewing"
   ]
  },
  {
   "cell_type": "code",
   "execution_count": null,
   "id": "654fd7e7-ed4d-4e02-a0db-0feb8b29b5e3",
   "metadata": {},
   "outputs": [],
   "source": [
    "import hvplot.xarray\n",
    "import geoviews as gv\n",
    "from cartopy import crs as ccrs\n",
    "gv.extension('bokeh')"
   ]
  },
  {
   "cell_type": "code",
   "execution_count": null,
   "id": "c2ec263c-2762-4eb5-a423-bc736bb5ef50",
   "metadata": {},
   "outputs": [],
   "source": [
    "%%opts Overlay [width=900 height=600]\n",
    "\n",
    "import warnings\n",
    "warnings.filterwarnings(\"ignore\")\n",
    "\n",
    "(ds.chl_oc3.hvplot('longitude','latitude',groupby='time', dynamic=True, rasterize=True, cmap='magma',crs=ccrs.PlateCarree()).redim(chl_oc3=dict(range=(0, 1.0))))*\\\n",
    "(gv.feature.coastline(scale='10m')).opts(color='black')"
   ]
  },
  {
   "cell_type": "markdown",
   "id": "bd326678-0759-4fae-8152-f9dd702cc114",
   "metadata": {},
   "source": [
    "# WA wide monthly mean"
   ]
  },
  {
   "cell_type": "code",
   "execution_count": null,
   "id": "9b8da6da-135b-498c-b482-21b880f23260",
   "metadata": {},
   "outputs": [],
   "source": [
    "ds_mean = ds.chl_oc3.groupby('time.month').mean()"
   ]
  },
  {
   "cell_type": "code",
   "execution_count": null,
   "id": "27a0b7d0-75c1-40c2-b40d-fc5d47dc9a7f",
   "metadata": {},
   "outputs": [],
   "source": [
    "print(f'{ds_mean.nbytes/1E9:.3f} GB')"
   ]
  },
  {
   "cell_type": "code",
   "execution_count": null,
   "id": "d6c2fc30-150f-43c5-bebb-1607c44f27f7",
   "metadata": {},
   "outputs": [],
   "source": [
    "ds_mean = ds_mean.load()"
   ]
  },
  {
   "cell_type": "code",
   "execution_count": null,
   "id": "6dbca50f-3839-4b37-a804-3534c74fb1e1",
   "metadata": {},
   "outputs": [],
   "source": [
    "import numpy as np\n",
    "ds_mean = np.log(ds_mean)"
   ]
  },
  {
   "cell_type": "code",
   "execution_count": null,
   "id": "cf2b277a-403f-48ad-899f-3ca02a1a59a1",
   "metadata": {},
   "outputs": [],
   "source": [
    "%%opts Overlay [width=900 height=600]\n",
    "\n",
    "import warnings\n",
    "warnings.filterwarnings(\"ignore\")\n",
    "\n",
    "(ds_mean.hvplot('longitude','latitude',groupby='month',dynamic=True, rasterize=True, cmap='magma',crs=ccrs.PlateCarree()).redim(chl_oc3=dict(range=(-3, 2))))*\\\n",
    "(gv.feature.coastline(scale='10m')).opts(color='black')"
   ]
  },
  {
   "cell_type": "code",
   "execution_count": null,
   "id": "9c4ab82e-1dce-42de-bdeb-250b7393f362",
   "metadata": {},
   "outputs": [],
   "source": [
    "client.cluster.shutdown()"
   ]
  },
  {
   "cell_type": "code",
   "execution_count": null,
   "id": "17a0af22-9548-4b5b-9d3d-49624a8dfd3f",
   "metadata": {},
   "outputs": [],
   "source": []
  }
 ],
 "metadata": {
  "kernelspec": {
   "display_name": "Python 3 (ipykernel)",
   "language": "python",
   "name": "python3"
  },
  "language_info": {
   "codemirror_mode": {
    "name": "ipython",
    "version": 3
   },
   "file_extension": ".py",
   "mimetype": "text/x-python",
   "name": "python",
   "nbconvert_exporter": "python",
   "pygments_lexer": "ipython3",
   "version": "3.8.10"
  }
 },
 "nbformat": 4,
 "nbformat_minor": 5
}
