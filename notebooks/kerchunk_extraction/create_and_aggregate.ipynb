{
 "cells": [
  {
   "cell_type": "markdown",
   "id": "f1949fa3",
   "metadata": {},
   "source": [
    "# Notebook to create aggregated reference files (json) into monthly or yearly zarrs"
   ]
  },
  {
   "cell_type": "code",
   "execution_count": 1,
   "id": "89cae84a-977c-4f38-bcfe-34c08e9ca87e",
   "metadata": {},
   "outputs": [],
   "source": [
    "%load_ext autoreload\n",
    "%autoreload 2"
   ]
  },
  {
   "cell_type": "markdown",
   "id": "a2e46171-da12-46b5-a251-3d48881e00a2",
   "metadata": {
    "tags": []
   },
   "source": [
    "## Step 0: Import the library of code"
   ]
  },
  {
   "cell_type": "code",
   "execution_count": 2,
   "id": "32afa976-8fe9-41b3-a969-72012fbc8ccd",
   "metadata": {},
   "outputs": [],
   "source": [
    "import sys\n",
    "import os\n",
    "sys.path.append('/home/jovyan/intake-aodn/')\n",
    "import intake_aodn\n",
    "import intake\n",
    "\n",
    "from intake_aodn.utils import get_local_cluster, get_distributed_cluster\n",
    "from intake_aodn.indexing import process_aggregate"
   ]
  },
  {
   "cell_type": "code",
   "execution_count": 3,
   "id": "db31066e-aa82-42bf-acd2-d2870f097e04",
   "metadata": {},
   "outputs": [
    {
     "name": "stdout",
     "output_type": "stream",
     "text": [
      "Creating new cluster. Please wait for this to finish.\n"
     ]
    },
    {
     "data": {
      "application/vnd.jupyter.widget-view+json": {
       "model_id": "bd51028a501c4e4d9ff9c4a28b400df1",
       "version_major": 2,
       "version_minor": 0
      },
      "text/plain": [
       "VBox(children=(HTML(value='<h2>GatewayCluster</h2>'), HBox(children=(HTML(value='\\n<div>\\n<style scoped>\\n    …"
      ]
     },
     "metadata": {},
     "output_type": "display_data"
    }
   ],
   "source": [
    "# client = get_local_cluster()\n",
    "client = get_distributed_cluster(worker_cores=1, worker_memory=2.0, min_workers=32, max_workers=32)"
   ]
  },
  {
   "cell_type": "code",
   "execution_count": 4,
   "id": "f1f0df5e-019a-40c6-b80b-c33d53056350",
   "metadata": {},
   "outputs": [
    {
     "data": {
      "text/plain": [
       "{'tls://10.0.33.65:38249': {'status': 'OK'},\n",
       " 'tls://10.0.34.43:43119': {'status': 'OK'},\n",
       " 'tls://10.0.36.67:41019': {'status': 'OK'},\n",
       " 'tls://10.0.38.246:42045': {'status': 'OK'},\n",
       " 'tls://10.0.40.91:39417': {'status': 'OK'},\n",
       " 'tls://10.0.42.16:37669': {'status': 'OK'},\n",
       " 'tls://10.0.44.133:46813': {'status': 'OK'},\n",
       " 'tls://10.0.44.138:33229': {'status': 'OK'},\n",
       " 'tls://10.0.46.67:38493': {'status': 'OK'},\n",
       " 'tls://10.0.47.90:35651': {'status': 'OK'},\n",
       " 'tls://10.0.48.102:33171': {'status': 'OK'},\n",
       " 'tls://10.0.48.2:43067': {'status': 'OK'},\n",
       " 'tls://10.0.48.83:35551': {'status': 'OK'},\n",
       " 'tls://10.0.50.72:36101': {'status': 'OK'},\n",
       " 'tls://10.0.51.130:37091': {'status': 'OK'},\n",
       " 'tls://10.0.51.98:38459': {'status': 'OK'},\n",
       " 'tls://10.0.54.12:41387': {'status': 'OK'},\n",
       " 'tls://10.0.54.162:46145': {'status': 'OK'},\n",
       " 'tls://10.0.54.17:37401': {'status': 'OK'},\n",
       " 'tls://10.0.54.202:40315': {'status': 'OK'},\n",
       " 'tls://10.0.55.183:40729': {'status': 'OK'},\n",
       " 'tls://10.0.55.97:42449': {'status': 'OK'},\n",
       " 'tls://10.0.56.243:39161': {'status': 'OK'},\n",
       " 'tls://10.0.56.28:39099': {'status': 'OK'},\n",
       " 'tls://10.0.56.97:37697': {'status': 'OK'},\n",
       " 'tls://10.0.57.185:41063': {'status': 'OK'},\n",
       " 'tls://10.0.58.166:38099': {'status': 'OK'},\n",
       " 'tls://10.0.58.214:38103': {'status': 'OK'},\n",
       " 'tls://10.0.59.218:43271': {'status': 'OK'},\n",
       " 'tls://10.0.60.16:44917': {'status': 'OK'},\n",
       " 'tls://10.0.60.44:41473': {'status': 'OK'},\n",
       " 'tls://10.0.61.250:45075': {'status': 'OK'}}"
      ]
     },
     "execution_count": 4,
     "metadata": {},
     "output_type": "execute_result"
    }
   ],
   "source": [
    "# requires a working installation of kerchunk in the notebook environment and on the workers if using distributed\n",
    "from dask.distributed import PipInstall\n",
    "plugin = PipInstall(packages=[\"kerchunk\"], pip_options=[\"--upgrade\"])\n",
    "client.register_worker_plugin(plugin)\n",
    "\n",
    "# If using a distributed cluster on EASI build eggs using \"python setup.py bdist_egg\" and upload to workers\n",
    "# otherwise dask workers wont have code for imports\n",
    "client.upload_file('/home/jovyan/intake-aodn/dist/intake_aodn-0+untagged.57.g0b7665b.dirty-py3.8.egg')"
   ]
  },
  {
   "cell_type": "markdown",
   "id": "e0580b60-2def-46c4-af1e-2c77d06c1fe3",
   "metadata": {},
   "source": [
    "# Unzip existing references"
   ]
  },
  {
   "cell_type": "code",
   "execution_count": null,
   "id": "c28268c6-fc61-43a5-bedb-31e19f43fd5a",
   "metadata": {},
   "outputs": [],
   "source": [
    "!cd ../../intake_aodn/catalogs/ && unzip -q aodn_refs.zip"
   ]
  },
  {
   "cell_type": "markdown",
   "id": "63bbca21-4c0a-4342-bbe8-1bdc138f41d8",
   "metadata": {},
   "source": [
    "# SST Data"
   ]
  },
  {
   "cell_type": "code",
   "execution_count": 6,
   "id": "40553785-2a27-4cdd-a85c-4cae43ff6c2a",
   "metadata": {},
   "outputs": [],
   "source": [
    "def sst_preprocess(ds):\n",
    "    variables = ['dt_analysis',\n",
    "                 'l2p_flags',\n",
    "                 'quality_level',\n",
    "                 'satellite_zenith_angle',\n",
    "                 'sea_surface_temperature',\n",
    "                 'sses_bias',\n",
    "                 'sses_count',\n",
    "                 'sses_standard_deviation',\n",
    "                 'sst_dtime']\n",
    "    ds = ds[variables]\n",
    "    return ds"
   ]
  },
  {
   "cell_type": "code",
   "execution_count": 7,
   "id": "fdae953b-5204-4c82-ac8b-dda71246fc6c",
   "metadata": {},
   "outputs": [
    {
     "name": "stdout",
     "output_type": "stream",
     "text": [
      "Aggregating s3://imos-data/IMOS/SRS/SST/ghrsst/L3S-1d/ngt/2021/202107*-ABOM-L3S_GHRSST-SSTskin-AVHRR_D-1d_night.nc - 23 found.\n",
      "Loading references...\n",
      "... using dask ...\n",
      "Checking chunk layout...\n",
      "Aggregating into ../../intake_aodn/catalogs/imos-data/IMOS/SRS/SST/ghrsst/L3S-1d/ngt/202107-ABOM-L3S_GHRSST-SSTskin-AVHRR_D-1d_night_a.json\n",
      "CPU times: user 1.47 s, sys: 118 ms, total: 1.58 s\n",
      "Wall time: 7.49 s\n"
     ]
    },
    {
     "data": {
      "text/plain": [
       "{'2021/202107': ['imos-data/IMOS/SRS/SST/ghrsst/L3S-1d/ngt/202107-ABOM-L3S_GHRSST-SSTskin-AVHRR_D-1d_night_a.json']}"
      ]
     },
     "execution_count": 7,
     "metadata": {},
     "output_type": "execute_result"
    }
   ],
   "source": [
    "%%time\n",
    "# s3://imos-data-pixeldrill/IMOS/SRS/SST/ghrsst/L3S-1d/ngt/2016/20161001152000-ABOM-L3S_GHRSST-SSTskin-AVHRR_D-1d_night.nc\n",
    "kwargs = dict(root='imos-data/IMOS/SRS/SST/ghrsst/L3S-1d/ngt/',\n",
    "               year='2021',\n",
    "               month='07',\n",
    "               mask='{year}/{year}{month}',\n",
    "               suffix='-ABOM-L3S_GHRSST-SSTskin-AVHRR_D-1d_night',\n",
    "               extension='nc',\n",
    "               check_chunking='sea_surface_temperature',\n",
    "               preprocess=sst_preprocess,\n",
    "               storage_options=dict(anon=True),\n",
    "               dest='../../intake_aodn/catalogs/',\n",
    "               dask=True)\n",
    "process_aggregate(**kwargs)"
   ]
  },
  {
   "cell_type": "code",
   "execution_count": 8,
   "id": "9cf591ff-1338-4bf5-bd23-59c75ca3ab85",
   "metadata": {},
   "outputs": [
    {
     "name": "stdout",
     "output_type": "stream",
     "text": [
      "DatetimeIndex(['2021-07-31', '2021-08-31', '2021-09-30', '2021-10-31',\n",
      "               '2021-11-30', '2021-12-31', '2022-01-31', '2022-02-28'],\n",
      "              dtype='datetime64[ns]', freq='M')\n"
     ]
    }
   ],
   "source": [
    "import pandas as pd\n",
    "dt = pd.date_range('2021-07-01',pd.Timestamp.now() + pd.DateOffset(months=1),freq='M')\n",
    "# dt = pd.date_range('2022-02-01',pd.Timestamp.now() + pd.DateOffset(months=1),freq='M')\n",
    "print(dt)"
   ]
  },
  {
   "cell_type": "code",
   "execution_count": 9,
   "id": "f6877d1c-1d46-4876-a9e4-b5950c4cf32e",
   "metadata": {},
   "outputs": [
    {
     "name": "stdout",
     "output_type": "stream",
     "text": [
      "Aggregating s3://imos-data/IMOS/SRS/SST/ghrsst/L3S-1d/ngt/2021/202107*-ABOM-L3S_GHRSST-SSTskin-AVHRR_D-1d_night.nc - 23 found.\n",
      "Loading references...\n",
      "... using dask ...\n",
      "Checking chunk layout...\n",
      "Aggregating into ../../intake_aodn/catalogs/imos-data/IMOS/SRS/SST/ghrsst/L3S-1d/ngt/202107-ABOM-L3S_GHRSST-SSTskin-AVHRR_D-1d_night_a.json\n",
      "Aggregating s3://imos-data/IMOS/SRS/SST/ghrsst/L3S-1d/ngt/2021/202108*-ABOM-L3S_GHRSST-SSTskin-AVHRR_D-1d_night.nc - 30 found.\n",
      "Loading references...\n",
      "... using dask ...\n",
      "Checking chunk layout...\n",
      "Aggregating into ../../intake_aodn/catalogs/imos-data/IMOS/SRS/SST/ghrsst/L3S-1d/ngt/202108-ABOM-L3S_GHRSST-SSTskin-AVHRR_D-1d_night_a.json\n",
      "Aggregating s3://imos-data/IMOS/SRS/SST/ghrsst/L3S-1d/ngt/2021/202109*-ABOM-L3S_GHRSST-SSTskin-AVHRR_D-1d_night.nc - 30 found.\n",
      "Loading references...\n",
      "... using dask ...\n",
      "Checking chunk layout...\n",
      "Aggregating into ../../intake_aodn/catalogs/imos-data/IMOS/SRS/SST/ghrsst/L3S-1d/ngt/202109-ABOM-L3S_GHRSST-SSTskin-AVHRR_D-1d_night_a.json\n",
      "Aggregating s3://imos-data/IMOS/SRS/SST/ghrsst/L3S-1d/ngt/2021/202110*-ABOM-L3S_GHRSST-SSTskin-AVHRR_D-1d_night.nc - 31 found.\n",
      "Loading references...\n",
      "... using dask ...\n",
      "Checking chunk layout...\n",
      "Aggregating into ../../intake_aodn/catalogs/imos-data/IMOS/SRS/SST/ghrsst/L3S-1d/ngt/202110-ABOM-L3S_GHRSST-SSTskin-AVHRR_D-1d_night_a.json\n",
      "Aggregating s3://imos-data/IMOS/SRS/SST/ghrsst/L3S-1d/ngt/2021/202111*-ABOM-L3S_GHRSST-SSTskin-AVHRR_D-1d_night.nc - 30 found.\n",
      "Loading references...\n",
      "... using dask ...\n",
      "Checking chunk layout...\n",
      "Aggregating into ../../intake_aodn/catalogs/imos-data/IMOS/SRS/SST/ghrsst/L3S-1d/ngt/202111-ABOM-L3S_GHRSST-SSTskin-AVHRR_D-1d_night_a.json\n",
      "Aggregating s3://imos-data/IMOS/SRS/SST/ghrsst/L3S-1d/ngt/2021/202112*-ABOM-L3S_GHRSST-SSTskin-AVHRR_D-1d_night.nc - 30 found.\n",
      "Loading references...\n",
      "... using dask ...\n",
      "Checking chunk layout...\n",
      "Aggregating into ../../intake_aodn/catalogs/imos-data/IMOS/SRS/SST/ghrsst/L3S-1d/ngt/202112-ABOM-L3S_GHRSST-SSTskin-AVHRR_D-1d_night_a.json\n",
      "Aggregating s3://imos-data/IMOS/SRS/SST/ghrsst/L3S-1d/ngt/2022/202201*-ABOM-L3S_GHRSST-SSTskin-AVHRR_D-1d_night.nc - 31 found.\n",
      "Loading references...\n",
      "... using dask ...\n",
      "Checking chunk layout...\n",
      "Aggregating into ../../intake_aodn/catalogs/imos-data/IMOS/SRS/SST/ghrsst/L3S-1d/ngt/202201-ABOM-L3S_GHRSST-SSTskin-AVHRR_D-1d_night_a.json\n",
      "Aggregating s3://imos-data/IMOS/SRS/SST/ghrsst/L3S-1d/ngt/2022/202202*-ABOM-L3S_GHRSST-SSTskin-AVHRR_D-1d_night.nc - 18 found.\n",
      "Loading references...\n",
      "... using dask ...\n",
      "Checking chunk layout...\n",
      "Aggregating into ../../intake_aodn/catalogs/imos-data/IMOS/SRS/SST/ghrsst/L3S-1d/ngt/202202-ABOM-L3S_GHRSST-SSTskin-AVHRR_D-1d_night_a.json\n"
     ]
    }
   ],
   "source": [
    "results = []\n",
    "for d in dt:\n",
    "    kws = kwargs.copy()\n",
    "    kws['year'] = d.strftime('%Y')\n",
    "    kws['month'] = d.strftime('%m')\n",
    "    results.append(process_aggregate(**kws))"
   ]
  },
  {
   "cell_type": "markdown",
   "id": "120e8eb9-6303-4e75-a70c-5f1dc882de2f",
   "metadata": {},
   "source": [
    "# MODIS Ocean Colour"
   ]
  },
  {
   "cell_type": "code",
   "execution_count": 10,
   "id": "3fa25175-5dab-4587-a6d5-cf8ca45a1d13",
   "metadata": {},
   "outputs": [
    {
     "name": "stdout",
     "output_type": "stream",
     "text": [
      "Aggregating s3://imos-data/IMOS/SRS/OC/gridded/aqua/P1D/2021/07/A.P1D.202107*.aust.K_490.nc - 31 found.\n",
      "Loading references...\n",
      "... using dask ...\n",
      "Checking chunk layout...\n",
      "Aggregating into ../../intake_aodn/catalogs/imos-data/IMOS/SRS/OC/gridded/aqua/P1D/202107.aust.K_490_a.json\n",
      "Aggregating s3://imos-data/IMOS/SRS/OC/gridded/aqua/P1D/2021/07/A.P1D.202107*.aust.chl_oc3.nc - 31 found.\n",
      "Loading references...\n",
      "... using dask ...\n",
      "Checking chunk layout...\n",
      "Aggregating into ../../intake_aodn/catalogs/imos-data/IMOS/SRS/OC/gridded/aqua/P1D/202107.aust.chl_oc3_a.json\n",
      "Aggregating s3://imos-data/IMOS/SRS/OC/gridded/aqua/P1D/2021/07/A.P1D.202107*.aust.chl_oc3.nc - 31 found.\n",
      "Loading references...\n",
      "... using dask ...\n",
      "Checking chunk layout...\n",
      "Aggregating into ../../intake_aodn/catalogs/imos-data/IMOS/SRS/OC/gridded/aqua/P1D/202107.aust.chl_oc3_a.json\n",
      "Aggregating s3://imos-data/IMOS/SRS/OC/gridded/aqua/P1D/2021/07/A.P1D.202107*.aust.chl_gsm.nc - 31 found.\n",
      "Loading references...\n",
      "... using dask ...\n",
      "Checking chunk layout...\n",
      "Aggregating into ../../intake_aodn/catalogs/imos-data/IMOS/SRS/OC/gridded/aqua/P1D/202107.aust.chl_gsm_a.json\n",
      "Aggregating s3://imos-data/IMOS/SRS/OC/gridded/aqua/P1D/2021/08/A.P1D.202108*.aust.K_490.nc - 31 found.\n",
      "Loading references...\n",
      "... using dask ...\n",
      "Checking chunk layout...\n",
      "Aggregating into ../../intake_aodn/catalogs/imos-data/IMOS/SRS/OC/gridded/aqua/P1D/202108.aust.K_490_a.json\n",
      "Aggregating s3://imos-data/IMOS/SRS/OC/gridded/aqua/P1D/2021/08/A.P1D.202108*.aust.chl_oc3.nc - 31 found.\n",
      "Loading references...\n",
      "... using dask ...\n",
      "Checking chunk layout...\n",
      "Aggregating into ../../intake_aodn/catalogs/imos-data/IMOS/SRS/OC/gridded/aqua/P1D/202108.aust.chl_oc3_a.json\n",
      "Aggregating s3://imos-data/IMOS/SRS/OC/gridded/aqua/P1D/2021/08/A.P1D.202108*.aust.chl_oc3.nc - 31 found.\n",
      "Loading references...\n",
      "... using dask ...\n",
      "Checking chunk layout...\n",
      "Aggregating into ../../intake_aodn/catalogs/imos-data/IMOS/SRS/OC/gridded/aqua/P1D/202108.aust.chl_oc3_a.json\n",
      "Aggregating s3://imos-data/IMOS/SRS/OC/gridded/aqua/P1D/2021/08/A.P1D.202108*.aust.chl_gsm.nc - 31 found.\n",
      "Loading references...\n",
      "... using dask ...\n",
      "Checking chunk layout...\n",
      "Aggregating into ../../intake_aodn/catalogs/imos-data/IMOS/SRS/OC/gridded/aqua/P1D/202108.aust.chl_gsm_a.json\n",
      "Aggregating s3://imos-data/IMOS/SRS/OC/gridded/aqua/P1D/2021/09/A.P1D.202109*.aust.K_490.nc - 30 found.\n",
      "Loading references...\n",
      "... using dask ...\n",
      "Checking chunk layout...\n",
      "Aggregating into ../../intake_aodn/catalogs/imos-data/IMOS/SRS/OC/gridded/aqua/P1D/202109.aust.K_490_a.json\n",
      "Aggregating s3://imos-data/IMOS/SRS/OC/gridded/aqua/P1D/2021/09/A.P1D.202109*.aust.chl_oc3.nc - 30 found.\n",
      "Loading references...\n",
      "... using dask ...\n",
      "Checking chunk layout...\n",
      "Aggregating into ../../intake_aodn/catalogs/imos-data/IMOS/SRS/OC/gridded/aqua/P1D/202109.aust.chl_oc3_a.json\n",
      "Aggregating s3://imos-data/IMOS/SRS/OC/gridded/aqua/P1D/2021/09/A.P1D.202109*.aust.chl_oc3.nc - 30 found.\n",
      "Loading references...\n",
      "... using dask ...\n",
      "Checking chunk layout...\n",
      "Aggregating into ../../intake_aodn/catalogs/imos-data/IMOS/SRS/OC/gridded/aqua/P1D/202109.aust.chl_oc3_a.json\n",
      "Aggregating s3://imos-data/IMOS/SRS/OC/gridded/aqua/P1D/2021/09/A.P1D.202109*.aust.chl_gsm.nc - 30 found.\n",
      "Loading references...\n",
      "... using dask ...\n",
      "Checking chunk layout...\n",
      "Aggregating into ../../intake_aodn/catalogs/imos-data/IMOS/SRS/OC/gridded/aqua/P1D/202109.aust.chl_gsm_a.json\n",
      "Aggregating s3://imos-data/IMOS/SRS/OC/gridded/aqua/P1D/2021/10/A.P1D.202110*.aust.K_490.nc - 31 found.\n",
      "Loading references...\n",
      "... using dask ...\n",
      "Checking chunk layout...\n",
      "Aggregating into ../../intake_aodn/catalogs/imos-data/IMOS/SRS/OC/gridded/aqua/P1D/202110.aust.K_490_a.json\n",
      "Aggregating s3://imos-data/IMOS/SRS/OC/gridded/aqua/P1D/2021/10/A.P1D.202110*.aust.chl_oc3.nc - 31 found.\n",
      "Loading references...\n",
      "... using dask ...\n",
      "Checking chunk layout...\n",
      "Aggregating into ../../intake_aodn/catalogs/imos-data/IMOS/SRS/OC/gridded/aqua/P1D/202110.aust.chl_oc3_a.json\n",
      "Aggregating s3://imos-data/IMOS/SRS/OC/gridded/aqua/P1D/2021/10/A.P1D.202110*.aust.chl_oc3.nc - 31 found.\n",
      "Loading references...\n",
      "... using dask ...\n",
      "Checking chunk layout...\n",
      "Aggregating into ../../intake_aodn/catalogs/imos-data/IMOS/SRS/OC/gridded/aqua/P1D/202110.aust.chl_oc3_a.json\n",
      "Aggregating s3://imos-data/IMOS/SRS/OC/gridded/aqua/P1D/2021/10/A.P1D.202110*.aust.chl_gsm.nc - 31 found.\n",
      "Loading references...\n",
      "... using dask ...\n",
      "Checking chunk layout...\n",
      "Aggregating into ../../intake_aodn/catalogs/imos-data/IMOS/SRS/OC/gridded/aqua/P1D/202110.aust.chl_gsm_a.json\n",
      "Aggregating s3://imos-data/IMOS/SRS/OC/gridded/aqua/P1D/2021/11/A.P1D.202111*.aust.K_490.nc - 30 found.\n",
      "Loading references...\n",
      "... using dask ...\n",
      "Checking chunk layout...\n",
      "Aggregating into ../../intake_aodn/catalogs/imos-data/IMOS/SRS/OC/gridded/aqua/P1D/202111.aust.K_490_a.json\n",
      "Aggregating s3://imos-data/IMOS/SRS/OC/gridded/aqua/P1D/2021/11/A.P1D.202111*.aust.chl_oc3.nc - 30 found.\n",
      "Loading references...\n",
      "... using dask ...\n",
      "Checking chunk layout...\n",
      "Aggregating into ../../intake_aodn/catalogs/imos-data/IMOS/SRS/OC/gridded/aqua/P1D/202111.aust.chl_oc3_a.json\n",
      "Aggregating s3://imos-data/IMOS/SRS/OC/gridded/aqua/P1D/2021/11/A.P1D.202111*.aust.chl_oc3.nc - 30 found.\n",
      "Loading references...\n",
      "... using dask ...\n",
      "Checking chunk layout...\n",
      "Aggregating into ../../intake_aodn/catalogs/imos-data/IMOS/SRS/OC/gridded/aqua/P1D/202111.aust.chl_oc3_a.json\n",
      "Aggregating s3://imos-data/IMOS/SRS/OC/gridded/aqua/P1D/2021/11/A.P1D.202111*.aust.chl_gsm.nc - 30 found.\n",
      "Loading references...\n",
      "... using dask ...\n",
      "Checking chunk layout...\n",
      "Aggregating into ../../intake_aodn/catalogs/imos-data/IMOS/SRS/OC/gridded/aqua/P1D/202111.aust.chl_gsm_a.json\n",
      "Aggregating s3://imos-data/IMOS/SRS/OC/gridded/aqua/P1D/2021/12/A.P1D.202112*.aust.K_490.nc - 31 found.\n",
      "Loading references...\n",
      "... using dask ...\n",
      "Checking chunk layout...\n",
      "Aggregating into ../../intake_aodn/catalogs/imos-data/IMOS/SRS/OC/gridded/aqua/P1D/202112.aust.K_490_a.json\n",
      "Aggregating s3://imos-data/IMOS/SRS/OC/gridded/aqua/P1D/2021/12/A.P1D.202112*.aust.chl_oc3.nc - 31 found.\n",
      "Loading references...\n",
      "... using dask ...\n",
      "Checking chunk layout...\n",
      "Aggregating into ../../intake_aodn/catalogs/imos-data/IMOS/SRS/OC/gridded/aqua/P1D/202112.aust.chl_oc3_a.json\n",
      "Aggregating s3://imos-data/IMOS/SRS/OC/gridded/aqua/P1D/2021/12/A.P1D.202112*.aust.chl_oc3.nc - 31 found.\n",
      "Loading references...\n",
      "... using dask ...\n",
      "Checking chunk layout...\n",
      "Aggregating into ../../intake_aodn/catalogs/imos-data/IMOS/SRS/OC/gridded/aqua/P1D/202112.aust.chl_oc3_a.json\n",
      "Aggregating s3://imos-data/IMOS/SRS/OC/gridded/aqua/P1D/2021/12/A.P1D.202112*.aust.chl_gsm.nc - 31 found.\n",
      "Loading references...\n",
      "... using dask ...\n",
      "Checking chunk layout...\n",
      "Aggregating into ../../intake_aodn/catalogs/imos-data/IMOS/SRS/OC/gridded/aqua/P1D/202112.aust.chl_gsm_a.json\n",
      "Aggregating s3://imos-data/IMOS/SRS/OC/gridded/aqua/P1D/2022/01/A.P1D.202201*.aust.K_490.nc - 31 found.\n",
      "Loading references...\n",
      "... using dask ...\n",
      "Checking chunk layout...\n",
      "Aggregating into ../../intake_aodn/catalogs/imos-data/IMOS/SRS/OC/gridded/aqua/P1D/202201.aust.K_490_a.json\n",
      "Aggregating s3://imos-data/IMOS/SRS/OC/gridded/aqua/P1D/2022/01/A.P1D.202201*.aust.chl_oc3.nc - 31 found.\n",
      "Loading references...\n",
      "... using dask ...\n",
      "Checking chunk layout...\n",
      "Aggregating into ../../intake_aodn/catalogs/imos-data/IMOS/SRS/OC/gridded/aqua/P1D/202201.aust.chl_oc3_a.json\n",
      "Aggregating s3://imos-data/IMOS/SRS/OC/gridded/aqua/P1D/2022/01/A.P1D.202201*.aust.chl_oc3.nc - 31 found.\n",
      "Loading references...\n",
      "... using dask ...\n",
      "Checking chunk layout...\n",
      "Aggregating into ../../intake_aodn/catalogs/imos-data/IMOS/SRS/OC/gridded/aqua/P1D/202201.aust.chl_oc3_a.json\n",
      "Aggregating s3://imos-data/IMOS/SRS/OC/gridded/aqua/P1D/2022/01/A.P1D.202201*.aust.chl_gsm.nc - 31 found.\n",
      "Loading references...\n",
      "... using dask ...\n",
      "Checking chunk layout...\n",
      "Aggregating into ../../intake_aodn/catalogs/imos-data/IMOS/SRS/OC/gridded/aqua/P1D/202201.aust.chl_gsm_a.json\n",
      "Aggregating s3://imos-data/IMOS/SRS/OC/gridded/aqua/P1D/2022/02/A.P1D.202202*.aust.K_490.nc - 18 found.\n",
      "Loading references...\n",
      "... using dask ...\n",
      "Checking chunk layout...\n",
      "Aggregating into ../../intake_aodn/catalogs/imos-data/IMOS/SRS/OC/gridded/aqua/P1D/202202.aust.K_490_a.json\n",
      "Aggregating s3://imos-data/IMOS/SRS/OC/gridded/aqua/P1D/2022/02/A.P1D.202202*.aust.chl_oc3.nc - 18 found.\n",
      "Loading references...\n",
      "... using dask ...\n",
      "Checking chunk layout...\n",
      "Aggregating into ../../intake_aodn/catalogs/imos-data/IMOS/SRS/OC/gridded/aqua/P1D/202202.aust.chl_oc3_a.json\n",
      "Aggregating s3://imos-data/IMOS/SRS/OC/gridded/aqua/P1D/2022/02/A.P1D.202202*.aust.chl_oc3.nc - 18 found.\n",
      "Loading references...\n",
      "... using dask ...\n",
      "Checking chunk layout...\n",
      "Aggregating into ../../intake_aodn/catalogs/imos-data/IMOS/SRS/OC/gridded/aqua/P1D/202202.aust.chl_oc3_a.json\n",
      "Aggregating s3://imos-data/IMOS/SRS/OC/gridded/aqua/P1D/2022/02/A.P1D.202202*.aust.chl_gsm.nc - 18 found.\n",
      "Loading references...\n",
      "... using dask ...\n",
      "Checking chunk layout...\n",
      "Aggregating into ../../intake_aodn/catalogs/imos-data/IMOS/SRS/OC/gridded/aqua/P1D/202202.aust.chl_gsm_a.json\n"
     ]
    }
   ],
   "source": [
    "kwargs = dict(root='imos-data/IMOS/SRS/OC/gridded/aqua/P1D/',\n",
    "              mask='{year}/{month}/A.P1D.{year}{month}',\n",
    "              dest='../../intake_aodn/catalogs/',\n",
    "              dask=True\n",
    "             ) \n",
    "\n",
    "results = []\n",
    "\n",
    "for d in dt:\n",
    "    for var in ['K_490','chl_oc3','chl_oc3','chl_gsm']:\n",
    "        kws = kwargs.copy()\n",
    "        kws['year'] = d.strftime('%Y')\n",
    "        kws['month'] = d.strftime('%m')\n",
    "        kws['suffix'] = f'.aust.{var}'\n",
    "        kws['check_chunking'] = var\n",
    "        results.append(process_aggregate(**kws))"
   ]
  },
  {
   "cell_type": "markdown",
   "id": "6ca1096e-bc7d-43fc-8bd1-504f00a59f16",
   "metadata": {},
   "source": [
    "## Zip references"
   ]
  },
  {
   "cell_type": "code",
   "execution_count": 11,
   "id": "ca3df429-7602-43c8-a3cf-e9b67ad4e74d",
   "metadata": {},
   "outputs": [],
   "source": [
    "!cd ../../intake_aodn/catalogs/ && rm aodn_refs.zip  && zip -r -q aodn_refs.zip imos-data && rm -rf ../../intake_aodn/catalogs/imos-data/"
   ]
  },
  {
   "cell_type": "code",
   "execution_count": null,
   "id": "d1cf3910-614f-4032-9013-6d96f4f8a4d3",
   "metadata": {},
   "outputs": [],
   "source": []
  }
 ],
 "metadata": {
  "kernelspec": {
   "display_name": "test_ia",
   "language": "python",
   "name": "test_ia"
  },
  "language_info": {
   "codemirror_mode": {
    "name": "ipython",
    "version": 3
   },
   "file_extension": ".py",
   "mimetype": "text/x-python",
   "name": "python",
   "nbconvert_exporter": "python",
   "pygments_lexer": "ipython3",
   "version": "3.8.10"
  }
 },
 "nbformat": 4,
 "nbformat_minor": 5
}
