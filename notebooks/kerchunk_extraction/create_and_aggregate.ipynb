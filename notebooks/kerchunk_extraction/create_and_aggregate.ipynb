{
 "cells": [
  {
   "cell_type": "markdown",
   "id": "f1949fa3",
   "metadata": {},
   "source": [
    "# Notebook to create aggregated reference files (json) into monthly or yearly zarrs"
   ]
  },
  {
   "cell_type": "code",
   "execution_count": 1,
   "id": "89cae84a-977c-4f38-bcfe-34c08e9ca87e",
   "metadata": {},
   "outputs": [],
   "source": [
    "%load_ext autoreload\n",
    "%autoreload 2"
   ]
  },
  {
   "cell_type": "markdown",
   "id": "a2e46171-da12-46b5-a251-3d48881e00a2",
   "metadata": {
    "tags": []
   },
   "source": [
    "## Step 0: Import the library of code"
   ]
  },
  {
   "cell_type": "code",
   "execution_count": 2,
   "id": "32afa976-8fe9-41b3-a969-72012fbc8ccd",
   "metadata": {},
   "outputs": [],
   "source": [
    "import sys\n",
    "import os\n",
    "sys.path.append('/home/jovyan/intake-aodn/')\n",
    "import intake_aodn\n",
    "import intake\n",
    "\n",
    "from intake_aodn.utils import get_local_cluster, get_distributed_cluster\n",
    "from intake_aodn.indexing import process_aggregate"
   ]
  },
  {
   "cell_type": "code",
   "execution_count": 3,
   "id": "db31066e-aa82-42bf-acd2-d2870f097e04",
   "metadata": {},
   "outputs": [
    {
     "name": "stdout",
     "output_type": "stream",
     "text": [
      "Creating new cluster. Please wait for this to finish.\n"
     ]
    },
    {
     "data": {
      "application/vnd.jupyter.widget-view+json": {
       "model_id": "20bea76698a44e15bf883c74a8a9f207",
       "version_major": 2,
       "version_minor": 0
      },
      "text/plain": [
       "VBox(children=(HTML(value='<h2>GatewayCluster</h2>'), HBox(children=(HTML(value='\\n<div>\\n<style scoped>\\n    …"
      ]
     },
     "metadata": {},
     "output_type": "display_data"
    }
   ],
   "source": [
    "# client = get_local_cluster()\n",
    "client = get_distributed_cluster(worker_cores=1, worker_memory=2.0, min_workers=8, max_workers=8)"
   ]
  },
  {
   "cell_type": "code",
   "execution_count": 7,
   "id": "f1f0df5e-019a-40c6-b80b-c33d53056350",
   "metadata": {},
   "outputs": [
    {
     "data": {
      "text/plain": [
       "{'tls://10.0.42.37:43811': {'status': 'OK'},\n",
       " 'tls://10.0.49.28:35887': {'status': 'OK'},\n",
       " 'tls://10.0.49.69:41237': {'status': 'OK'},\n",
       " 'tls://10.0.50.183:33535': {'status': 'OK'},\n",
       " 'tls://10.0.54.132:46451': {'status': 'OK'},\n",
       " 'tls://10.0.57.7:42813': {'status': 'OK'},\n",
       " 'tls://10.0.58.166:46673': {'status': 'OK'},\n",
       " 'tls://10.0.60.196:34881': {'status': 'OK'}}"
      ]
     },
     "execution_count": 7,
     "metadata": {},
     "output_type": "execute_result"
    }
   ],
   "source": [
    "# requires a working installation of kerchunk in the notebook environment and on the workers if using distributed\n",
    "from dask.distributed import PipInstall\n",
    "plugin = PipInstall(packages=[\"kerchunk\"], pip_options=[\"--upgrade\"])\n",
    "client.register_worker_plugin(plugin)\n",
    "\n",
    "# If using a distributed cluster on EASI build eggs using \"python setup.py bdist_egg\" and upload to workers\n",
    "# otherwise dask workers wont have code for imports\n",
    "client.upload_file('/home/jovyan/intake-aodn/dist/intake_aodn-0+untagged.57.g0b7665b.dirty-py3.8.egg')"
   ]
  },
  {
   "cell_type": "markdown",
   "id": "e0580b60-2def-46c4-af1e-2c77d06c1fe3",
   "metadata": {},
   "source": [
    "# Unzip existing references"
   ]
  },
  {
   "cell_type": "code",
   "execution_count": 4,
   "id": "c28268c6-fc61-43a5-bedb-31e19f43fd5a",
   "metadata": {},
   "outputs": [],
   "source": [
    "!cd ../../intake_aodn/catalogs/ && unzip -q -f aodn_refs.zip"
   ]
  },
  {
   "cell_type": "markdown",
   "id": "63bbca21-4c0a-4342-bbe8-1bdc138f41d8",
   "metadata": {},
   "source": [
    "# SST Data"
   ]
  },
  {
   "cell_type": "code",
   "execution_count": 5,
   "id": "40553785-2a27-4cdd-a85c-4cae43ff6c2a",
   "metadata": {},
   "outputs": [],
   "source": [
    "def sst_preprocess(ds):\n",
    "    variables = ['dt_analysis',\n",
    "                 'l2p_flags',\n",
    "                 'quality_level',\n",
    "                 'satellite_zenith_angle',\n",
    "                 'sea_surface_temperature',\n",
    "                 'sses_bias',\n",
    "                 'sses_count',\n",
    "                 'sses_standard_deviation',\n",
    "                 'sst_dtime']\n",
    "    ds = ds[variables]\n",
    "    return ds"
   ]
  },
  {
   "cell_type": "code",
   "execution_count": 8,
   "id": "fdae953b-5204-4c82-ac8b-dda71246fc6c",
   "metadata": {},
   "outputs": [
    {
     "name": "stdout",
     "output_type": "stream",
     "text": [
      "Aggregating s3://imos-data/IMOS/SRS/SST/ghrsst/L3S-1d/ngt/2021/202107*-ABOM-L3S_GHRSST-SSTskin-AVHRR_D-1d_night.nc - 23 found.\n",
      "Loading references...\n",
      "... using dask ...\n",
      "Checking chunk layout...\n",
      "Aggregating into ../../intake_aodn/catalogs/imos-data/IMOS/SRS/SST/ghrsst/L3S-1d/ngt/202107-ABOM-L3S_GHRSST-SSTskin-AVHRR_D-1d_night_a.json\n",
      "CPU times: user 1.34 s, sys: 104 ms, total: 1.45 s\n",
      "Wall time: 14.9 s\n"
     ]
    },
    {
     "data": {
      "text/plain": [
       "{'2021/202107': ['imos-data/IMOS/SRS/SST/ghrsst/L3S-1d/ngt/202107-ABOM-L3S_GHRSST-SSTskin-AVHRR_D-1d_night_a.json']}"
      ]
     },
     "execution_count": 8,
     "metadata": {},
     "output_type": "execute_result"
    }
   ],
   "source": [
    "%%time\n",
    "# s3://imos-data-pixeldrill/IMOS/SRS/SST/ghrsst/L3S-1d/ngt/2016/20161001152000-ABOM-L3S_GHRSST-SSTskin-AVHRR_D-1d_night.nc\n",
    "kwargs = dict(root='imos-data/IMOS/SRS/SST/ghrsst/L3S-1d/ngt/',\n",
    "               year='2021',\n",
    "               month='07',\n",
    "               mask='{year}/{year}{month}',\n",
    "               suffix='-ABOM-L3S_GHRSST-SSTskin-AVHRR_D-1d_night',\n",
    "               extension='nc',\n",
    "               check_chunking='sea_surface_temperature',\n",
    "               preprocess=sst_preprocess,\n",
    "               storage_options=dict(anon=True),\n",
    "               dest='../../intake_aodn/catalogs/',\n",
    "               dask=True)\n",
    "process_aggregate(**kwargs)"
   ]
  },
  {
   "cell_type": "code",
   "execution_count": 12,
   "id": "9cf591ff-1338-4bf5-bd23-59c75ca3ab85",
   "metadata": {},
   "outputs": [
    {
     "name": "stdout",
     "output_type": "stream",
     "text": [
      "DatetimeIndex(['2022-02-28'], dtype='datetime64[ns]', freq='M')\n"
     ]
    }
   ],
   "source": [
    "import pandas as pd\n",
    "# dt = pd.date_range('2021-07-01',pd.Timestamp.now(),freq='M')\n",
    "dt = pd.date_range('2022-02-01',pd.Timestamp.now() + pd.DateOffset(months=1),freq='M')\n",
    "print(dt)"
   ]
  },
  {
   "cell_type": "code",
   "execution_count": 13,
   "id": "f6877d1c-1d46-4876-a9e4-b5950c4cf32e",
   "metadata": {},
   "outputs": [
    {
     "name": "stdout",
     "output_type": "stream",
     "text": [
      "Aggregating s3://imos-data/IMOS/SRS/SST/ghrsst/L3S-1d/ngt/2022/202202*-ABOM-L3S_GHRSST-SSTskin-AVHRR_D-1d_night.nc - 18 found.\n",
      "Loading references...\n",
      "... using dask ...\n",
      "Checking chunk layout...\n",
      "Aggregating into ../../intake_aodn/catalogs/imos-data/IMOS/SRS/SST/ghrsst/L3S-1d/ngt/202202-ABOM-L3S_GHRSST-SSTskin-AVHRR_D-1d_night_a.json\n"
     ]
    }
   ],
   "source": [
    "results = []\n",
    "for d in dt:\n",
    "    kws = kwargs.copy()\n",
    "    kws['year'] = d.strftime('%Y')\n",
    "    kws['month'] = d.strftime('%m')\n",
    "    results.append(process_aggregate(**kws))"
   ]
  },
  {
   "cell_type": "markdown",
   "id": "120e8eb9-6303-4e75-a70c-5f1dc882de2f",
   "metadata": {},
   "source": [
    "# MODIS Ocean Colour"
   ]
  },
  {
   "cell_type": "code",
   "execution_count": 14,
   "id": "3fa25175-5dab-4587-a6d5-cf8ca45a1d13",
   "metadata": {},
   "outputs": [
    {
     "name": "stdout",
     "output_type": "stream",
     "text": [
      "Aggregating s3://imos-data/IMOS/SRS/OC/gridded/aqua/P1D/2022/02/A.P1D.202202*.aust.K_490.nc - 18 found.\n",
      "Loading references...\n",
      "... using dask ...\n",
      "Checking chunk layout...\n",
      "Aggregating into ../../intake_aodn/catalogs/imos-data/IMOS/SRS/OC/gridded/aqua/P1D/202202.aust.K_490_a.json\n",
      "Aggregating s3://imos-data/IMOS/SRS/OC/gridded/aqua/P1D/2022/02/A.P1D.202202*.aust.chl_oc3.nc - 18 found.\n",
      "Loading references...\n",
      "... using dask ...\n",
      "Checking chunk layout...\n",
      "Aggregating into ../../intake_aodn/catalogs/imos-data/IMOS/SRS/OC/gridded/aqua/P1D/202202.aust.chl_oc3_a.json\n",
      "Aggregating s3://imos-data/IMOS/SRS/OC/gridded/aqua/P1D/2022/02/A.P1D.202202*.aust.chl_oc3.nc - 18 found.\n",
      "Loading references...\n",
      "... using dask ...\n",
      "Checking chunk layout...\n",
      "Aggregating into ../../intake_aodn/catalogs/imos-data/IMOS/SRS/OC/gridded/aqua/P1D/202202.aust.chl_oc3_a.json\n",
      "Aggregating s3://imos-data/IMOS/SRS/OC/gridded/aqua/P1D/2022/02/A.P1D.202202*.aust.chl_gsm.nc - 18 found.\n",
      "Loading references...\n",
      "... using dask ...\n",
      "Checking chunk layout...\n",
      "Aggregating into ../../intake_aodn/catalogs/imos-data/IMOS/SRS/OC/gridded/aqua/P1D/202202.aust.chl_gsm_a.json\n"
     ]
    }
   ],
   "source": [
    "kwargs = dict(root='imos-data/IMOS/SRS/OC/gridded/aqua/P1D/',\n",
    "              mask='{year}/{month}/A.P1D.{year}{month}',\n",
    "              dest='../../intake_aodn/catalogs/',\n",
    "              dask=True\n",
    "             ) \n",
    "\n",
    "results = []\n",
    "\n",
    "for d in dt:\n",
    "    for var in ['K_490','chl_oc3','chl_oc3','chl_gsm']:\n",
    "        kws = kwargs.copy()\n",
    "        kws['year'] = d.strftime('%Y')\n",
    "        kws['month'] = d.strftime('%m')\n",
    "        kws['suffix'] = f'.aust.{var}'\n",
    "        kws['check_chunking'] = var\n",
    "        results.append(process_aggregate(**kws))\n"
   ]
  },
  {
   "cell_type": "markdown",
   "id": "6ca1096e-bc7d-43fc-8bd1-504f00a59f16",
   "metadata": {},
   "source": [
    "## Zip references"
   ]
  },
  {
   "cell_type": "code",
   "execution_count": 15,
   "id": "ca3df429-7602-43c8-a3cf-e9b67ad4e74d",
   "metadata": {},
   "outputs": [],
   "source": [
    "!cd ../../intake_aodn/catalogs/ && zip -r -q aodn_refs.zip imos-data"
   ]
  },
  {
   "cell_type": "markdown",
   "id": "c2e2fc0d-2788-46c1-bbd9-9827e56bec78",
   "metadata": {},
   "source": [
    "# Update catalog entries"
   ]
  },
  {
   "cell_type": "code",
   "execution_count": 12,
   "id": "17332688-f867-4e80-b1a1-105e72d1d018",
   "metadata": {},
   "outputs": [],
   "source": [
    "cat = intake.open_catalog('../../intake_aodn/catalogs/main.yaml')"
   ]
  },
  {
   "cell_type": "code",
   "execution_count": 25,
   "id": "dcdd86d9-76e9-4370-924d-3d51bbfaf9bb",
   "metadata": {},
   "outputs": [],
   "source": [
    "entry=cat.aodn_s3.SST_L3S_1d_ngt()\n",
    "entry"
   ]
  },
  {
   "cell_type": "code",
   "execution_count": 33,
   "id": "c8915a4d-6337-4541-9f4d-3728c4d0ad33",
   "metadata": {},
   "outputs": [
    {
     "ename": "TypeError",
     "evalue": "__init__() got an unexpected keyword argument 'container'",
     "output_type": "error",
     "traceback": [
      "\u001b[0;31m---------------------------------------------------------------------------\u001b[0m",
      "\u001b[0;31mTypeError\u001b[0m                                 Traceback (most recent call last)",
      "\u001b[0;32m/tmp/ipykernel_1899/1851148604.py\u001b[0m in \u001b[0;36m<module>\u001b[0;34m\u001b[0m\n\u001b[1;32m      1\u001b[0m \u001b[0;32mfrom\u001b[0m \u001b[0mintake\u001b[0m\u001b[0;34m.\u001b[0m\u001b[0mcatalog\u001b[0m\u001b[0;34m.\u001b[0m\u001b[0mlocal\u001b[0m \u001b[0;32mimport\u001b[0m \u001b[0mLocalCatalogEntry\u001b[0m\u001b[0;34m\u001b[0m\u001b[0;34m\u001b[0m\u001b[0m\n\u001b[1;32m      2\u001b[0m \u001b[0mnew_entry\u001b[0m \u001b[0;34m=\u001b[0m \u001b[0mentry\u001b[0m\u001b[0;34m.\u001b[0m\u001b[0mdescribe\u001b[0m\u001b[0;34m(\u001b[0m\u001b[0;34m)\u001b[0m\u001b[0;34m\u001b[0m\u001b[0;34m\u001b[0m\u001b[0m\n\u001b[0;32m----> 3\u001b[0;31m \u001b[0mee\u001b[0m \u001b[0;34m=\u001b[0m \u001b[0mLocalCatalogEntry\u001b[0m\u001b[0;34m(\u001b[0m\u001b[0;34m**\u001b[0m\u001b[0mnew_entry\u001b[0m\u001b[0;34m)\u001b[0m\u001b[0;34m\u001b[0m\u001b[0;34m\u001b[0m\u001b[0m\n\u001b[0m",
      "\u001b[0;31mTypeError\u001b[0m: __init__() got an unexpected keyword argument 'container'"
     ]
    }
   ],
   "source": [
    "from intake.catalog.local import LocalCatalogEntry\n",
    "new_entry = entry.describe()\n",
    "ee = LocalCatalogEntry(**new_entry)"
   ]
  },
  {
   "cell_type": "code",
   "execution_count": null,
   "id": "d1cf3910-614f-4032-9013-6d96f4f8a4d3",
   "metadata": {},
   "outputs": [],
   "source": []
  }
 ],
 "metadata": {
  "kernelspec": {
   "display_name": "test_ia",
   "language": "python",
   "name": "test_ia"
  },
  "language_info": {
   "codemirror_mode": {
    "name": "ipython",
    "version": 3
   },
   "file_extension": ".py",
   "mimetype": "text/x-python",
   "name": "python",
   "nbconvert_exporter": "python",
   "pygments_lexer": "ipython3",
   "version": "3.8.10"
  }
 },
 "nbformat": 4,
 "nbformat_minor": 5
}
