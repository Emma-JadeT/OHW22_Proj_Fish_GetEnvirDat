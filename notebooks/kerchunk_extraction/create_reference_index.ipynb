{
 "cells": [
  {
   "cell_type": "markdown",
   "metadata": {},
   "source": [
    "# Create indexes for S3 netcdfs"
   ]
  },
  {
   "cell_type": "code",
   "execution_count": 1,
   "metadata": {},
   "outputs": [],
   "source": [
    "import json\n",
    "import fsspec\n",
    "import os"
   ]
  },
  {
   "cell_type": "code",
   "execution_count": 2,
   "metadata": {},
   "outputs": [],
   "source": [
    "import fsspec_reference_maker.hdf as fshdf"
   ]
  },
  {
   "cell_type": "code",
   "execution_count": 3,
   "metadata": {},
   "outputs": [],
   "source": [
    "import dask.bag as db\n",
    "import dask\n",
    "from dask.diagnostics import ProgressBar"
   ]
  },
  {
   "cell_type": "code",
   "execution_count": 14,
   "metadata": {},
   "outputs": [
    {
     "data": {
      "text/plain": [
       "1"
      ]
     },
     "execution_count": 14,
     "metadata": {},
     "output_type": "execute_result"
    }
   ],
   "source": [
    "fs = fsspec.filesystem('s3',anon=True)\n",
    "# all_files = fs.glob(f's3://imos-data/IMOS/SRS/OC/gridded/aqua/P1D/*/*/*K_490*.nc')\n",
    "all_files = fs.glob(f's3://imos-data/CSIRO/Climatology/SSTAARS/2017/AODN-product/SSTAARS_daily_fit.nc')\n",
    "all_files = fs.glob(f's3://imos-data/CSIRO/Climatology/SSTAARS/2017/SSTAARS.nc')\n",
    "len(all_files)"
   ]
  },
  {
   "cell_type": "code",
   "execution_count": 15,
   "metadata": {},
   "outputs": [
    {
     "data": {
      "text/plain": [
       "['imos-data/CSIRO/Climatology/SSTAARS/2017/SSTAARS.nc']"
      ]
     },
     "execution_count": 15,
     "metadata": {},
     "output_type": "execute_result"
    }
   ],
   "source": [
    "all_files[0:10]"
   ]
  },
  {
   "cell_type": "code",
   "execution_count": 16,
   "metadata": {},
   "outputs": [
    {
     "data": {
      "text/plain": [
       "['imos-data/CSIRO/Climatology/SSTAARS/2017/SSTAARS.nc']"
      ]
     },
     "execution_count": 16,
     "metadata": {},
     "output_type": "execute_result"
    }
   ],
   "source": [
    "all_files[-10:]"
   ]
  },
  {
   "cell_type": "code",
   "execution_count": 17,
   "metadata": {},
   "outputs": [],
   "source": [
    "from fsspec_reference_maker.hdf import SingleHdf5ToZarr"
   ]
  },
  {
   "cell_type": "code",
   "execution_count": 18,
   "metadata": {},
   "outputs": [],
   "source": [
    "refs_bucket = 'imos-data-pixeldrill-refs'"
   ]
  },
  {
   "cell_type": "code",
   "execution_count": 19,
   "metadata": {},
   "outputs": [],
   "source": [
    "# Load credentials\n",
    "def load_creds():\n",
    "    with open(os.environ['HOME'] + '/.aws/credentials','rt') as f:\n",
    "        f.readline()\n",
    "        key=f.readline().split('=')[1].strip()\n",
    "        secret=f.readline().split('=')[1].strip()\n",
    "    return key, secret\n",
    "key,secret=load_creds()"
   ]
  },
  {
   "cell_type": "code",
   "execution_count": 20,
   "metadata": {},
   "outputs": [],
   "source": [
    "def save_refs(s3_fn,refs_bucket='/home/jovyan/imos-data-pixeldrill-refs'):\n",
    "    import os\n",
    "    from fsspec.core import url_to_fs\n",
    "    references = s3_fn.replace('imos-data',refs_bucket).replace('.nc','.json')\n",
    "    s3_fn = 's3://' + s3_fn\n",
    "    \n",
    "    fs, _ = url_to_fs(references)\n",
    "    \n",
    "    dirname = os.path.dirname(references)\n",
    "    os.makedirs(dirname,exist_ok=True)\n",
    "    \n",
    "    if not fs.exists(references):        \n",
    "        with fsspec.open(s3_fn, \n",
    "                         anon=True, \n",
    "                         mode='rb', \n",
    "                         default_fill_cache=False, \n",
    "                         default_cache_type='none') as f:\n",
    "            h5chunks = SingleHdf5ToZarr(f, s3_fn, True)\n",
    "            json_str = h5chunks.translate()\n",
    "\n",
    "        with fs.open(references,mode='wt') as f:\n",
    "            json.dump(json_str,f,indent=4)\n",
    "\n",
    "    return references"
   ]
  },
  {
   "cell_type": "code",
   "execution_count": 21,
   "metadata": {},
   "outputs": [
    {
     "data": {
      "text/plain": [
       "'/home/jovyan/imos-data-pixeldrill-refs/CSIRO/Climatology/SSTAARS/2017/SSTAARS.json'"
      ]
     },
     "execution_count": 21,
     "metadata": {},
     "output_type": "execute_result"
    }
   ],
   "source": [
    "save_refs(all_files[0])"
   ]
  },
  {
   "cell_type": "code",
   "execution_count": 20,
   "metadata": {},
   "outputs": [],
   "source": [
    "b = db.from_sequence(all_files,npartitions=1000)\n",
    "references = b.map(save_refs)"
   ]
  },
  {
   "cell_type": "code",
   "execution_count": 21,
   "metadata": {},
   "outputs": [
    {
     "name": "stdout",
     "output_type": "stream",
     "text": [
      "[########################################] | 100% Completed | 11min 48.0s\n"
     ]
    }
   ],
   "source": [
    "with dask.config.set(scheduler='processes'):\n",
    "    with ProgressBar():\n",
    "        references.compute()"
   ]
  },
  {
   "cell_type": "code",
   "execution_count": 15,
   "metadata": {},
   "outputs": [],
   "source": [
    "# save_refs('imos-data-pixeldrill/IMOS/SRS/SST/ghrsst/L3S-1d/ngt/2016/20161001152000-ABOM-L3S_GHRSST-SSTskin-AVHRR_D-1d_night.nc')"
   ]
  },
  {
   "cell_type": "code",
   "execution_count": null,
   "metadata": {},
   "outputs": [],
   "source": []
  }
 ],
 "metadata": {
  "kernelspec": {
   "display_name": "pixeldrill",
   "language": "python",
   "name": "pixeldrill"
  },
  "language_info": {
   "codemirror_mode": {
    "name": "ipython",
    "version": 3
   },
   "file_extension": ".py",
   "mimetype": "text/x-python",
   "name": "python",
   "nbconvert_exporter": "python",
   "pygments_lexer": "ipython3",
   "version": "3.8.10"
  }
 },
 "nbformat": 4,
 "nbformat_minor": 4
}
