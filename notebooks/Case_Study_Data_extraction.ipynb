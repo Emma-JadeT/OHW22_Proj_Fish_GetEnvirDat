{
 "cells": [
  {
   "cell_type": "markdown",
   "id": "31ff0cd4-4cbb-4880-b5d8-e5e807212d5e",
   "metadata": {},
   "source": [
    "Author: Maxime Marin  \n",
    "@: mff.marin@gmail.com\n",
    "\n",
    "# Accessing IMOS data case studies: Walk-through and interactive session - Data Extraction\n",
    "\n",
    "*'Ok Max, very cool but I really just want to save the data and do my own stuff'*\n",
    "\n",
    "In this very short notebook, we show that once you have loaded your data, it is very easy to extract it out of jupyter onto a variety of format. \n",
    "\n",
    "## 1) Saving data\n",
    "\n",
    "Let's bring back our dataset (new notebook), import some libraries and save it:\n"
   ]
  },
  {
   "cell_type": "code",
   "execution_count": 1,
   "id": "e3e0a436-f751-4322-8e87-93efca42ae34",
   "metadata": {},
   "outputs": [],
   "source": [
    "import sys\n",
    "import os\n",
    "\n",
    "sys.path.append('/home/jovyan/intake-aodn')\n",
    "import intake_aodn\n",
    "from intake_aodn.plot import netcdf_save\n",
    "\n",
    "%store -r data"
   ]
  },
  {
   "cell_type": "code",
   "execution_count": 5,
   "id": "c097ac40-8fc5-421a-9a18-e7f39c8ab010",
   "metadata": {},
   "outputs": [
    {
     "name": "stdout",
     "output_type": "stream",
     "text": [
      "CPU times: user 4.73 s, sys: 1.83 s, total: 6.56 s\n",
      "Wall time: 9.53 s\n"
     ]
    }
   ],
   "source": [
    "%%time\n",
    "\n",
    "ds = data.stack(space=['longitude','latitude']).mean(dim='space').to_dataframe()\n",
    "ds.to_csv('box_averaged.csv',float_format = '%.2f', na_rep = 'NaN')"
   ]
  },
  {
   "cell_type": "markdown",
   "id": "563564ea-fc2a-4b8e-877f-c8b0494b3f86",
   "metadata": {},
   "source": [
    "We can of course save the data under a csv format. In the cell above, we first get the box-averaged timeseries and save it at a daily frequency.  \n",
    "If we open the file in jupyter or excel, we will see that the file contains a number of row equals to the number of time entries in our dataset (~10k days). Now, if we wanted to save all pixels from our selected region, the number of rows would be multiplied by the number of pixels, which would quickly make the file very big and not practical to save in csv.\n",
    "\n",
    "While saving large datasets into csv is possible, it would take a very long time, and excel for example would not display the complete dataset past 2^20 rows. Instead we can extract the data into a netcdf format, which is tailored for large 3D-4D datasets:"
   ]
  },
  {
   "cell_type": "code",
   "execution_count": 3,
   "id": "80014f1e-354f-4c50-82fe-996102a9764b",
   "metadata": {},
   "outputs": [
    {
     "name": "stdout",
     "output_type": "stream",
     "text": [
      "CPU times: user 4.31 s, sys: 3.36 s, total: 7.67 s\n",
      "Wall time: 22.5 s\n"
     ]
    }
   ],
   "source": [
    "%%time\n",
    "netcdf_save(data,filename = 'mySSTfile')"
   ]
  },
  {
   "cell_type": "markdown",
   "id": "21aeb35a-7f36-4e56-be72-431db2489d47",
   "metadata": {},
   "source": [
    "It only took twice as much time to save the daily data for all pixels into a netcdf format.\n",
    "\n",
    "***\n",
    "\n",
    "## 2) All in one\n",
    "\n",
    "If users simply want to use these tools to access, download and extract data, this all could be done in a few lines of code:"
   ]
  },
  {
   "cell_type": "code",
   "execution_count": 1,
   "id": "d7e82741-0da3-41b7-a41a-473b1000f149",
   "metadata": {},
   "outputs": [
    {
     "name": "stdout",
     "output_type": "stream",
     "text": [
      "An existing cluster was found. Connected to cluster \u001b[1measihub.fa5b73d4d06e46c4a33846c2052ec77f\u001b[0m\n"
     ]
    },
    {
     "data": {
      "application/vnd.jupyter.widget-view+json": {
       "model_id": "eeec24ecd2d34dd2bebcaff1a344775e",
       "version_major": 2,
       "version_minor": 0
      },
      "text/plain": [
       "VBox(children=(HTML(value='<h2>GatewayCluster</h2>'), HBox(children=(HTML(value='\\n<div>\\n<style scoped>\\n    …"
      ]
     },
     "metadata": {},
     "output_type": "display_data"
    },
    {
     "name": "stderr",
     "output_type": "stream",
     "text": [
      "distributed.client - WARNING - Couldn't gather 38 keys, rescheduling {'open_and_crop-17ff9c49-29f9-416f-8817-1dc25e8f68ad': ('tls://10.0.51.143:33443', 'tls://10.0.61.72:40319'), 'open_and_crop-2528b099-2d4e-409d-9b72-75af2e9d403b': ('tls://10.0.61.202:37055', 'tls://10.0.58.79:36101'), 'open_and_crop-3027a0a1-f67a-4b6c-b257-054c48e6dc49': ('tls://10.0.32.198:45235', 'tls://10.0.61.72:40319'), 'open_and_crop-df70dacb-da47-45a0-b66a-49a9ed7775ae': ('tls://10.0.53.68:38655', 'tls://10.0.38.148:40545'), 'open_and_crop-369f55c2-c1de-4b2f-ba40-34049fa6b6d1': ('tls://10.0.58.79:36101', 'tls://10.0.61.72:40319'), 'open_and_crop-842e9182-75c1-4d64-8eba-cacaf3eb296d': ('tls://10.0.61.202:37055', 'tls://10.0.58.79:36101'), 'open_and_crop-91c01335-82c1-46bf-b4e7-2ce4512ca1e6': ('tls://10.0.56.15:36179', 'tls://10.0.61.72:40319'), 'open_and_crop-316f8c5b-4643-4b46-9be2-fbdfc5ed70b9': ('tls://10.0.51.192:42891', 'tls://10.0.58.79:36101'), 'open_and_crop-f76dbcad-3e55-4138-8642-af5fc130e8f3': ('tls://10.0.33.17:38681',), 'open_and_crop-ac2c56c5-606c-451d-b843-8597fd603d64': ('tls://10.0.35.177:39773', 'tls://10.0.42.10:34719'), 'open_and_crop-672b7121-bf81-448c-b010-a54395f68e46': ('tls://10.0.37.11:40761', 'tls://10.0.44.252:39479'), 'open_and_crop-1b220a70-4f8d-4c67-a23a-80e9bb5ec6fd': ('tls://10.0.50.89:41305', 'tls://10.0.33.53:43873'), 'open_and_crop-565c4570-9bb5-417e-9f3c-95d3f08a6114': ('tls://10.0.36.188:44439', 'tls://10.0.46.185:35623'), 'open_and_crop-808ccaee-56b3-4cff-8dd4-7ac99446bf57': ('tls://10.0.40.17:45443', 'tls://10.0.44.252:39479'), 'open_and_crop-747a7690-3608-4734-9278-713571d3241d': ('tls://10.0.38.43:34425', 'tls://10.0.56.153:43165'), 'open_and_crop-fe8385c2-4cc5-46d5-a0d9-b4960df41b7e': ('tls://10.0.39.138:40225',), 'open_and_crop-e9ff2bfc-060a-4021-9c6e-dce747890b00': ('tls://10.0.35.76:34187', 'tls://10.0.46.185:35623'), 'open_and_crop-7c4658b3-5a42-4083-9e70-a31526db132e': ('tls://10.0.33.17:38681', 'tls://10.0.51.143:33443'), 'open_and_crop-45a4829c-11ac-4d90-b981-a1f55566ba32': ('tls://10.0.35.177:39773',), 'open_and_crop-69fc944f-7b8f-4c86-87a8-7a2209bc74a2': ('tls://10.0.35.217:40525', 'tls://10.0.44.252:39479'), 'open_and_crop-ce65f80d-afe1-46d0-b29b-8f7c72361ebf': ('tls://10.0.40.17:45443', 'tls://10.0.49.235:42817'), 'open_and_crop-4f0e84f5-2584-45e9-8164-b2503c67aa01': ('tls://10.0.34.1:46779', 'tls://10.0.49.235:42817'), 'open_and_crop-fa42ca24-8362-46ee-81bf-500a48ce41f4': ('tls://10.0.37.243:41283', 'tls://10.0.38.148:40545'), 'open_and_crop-8d338b4f-ea17-46b9-9cb2-a6272e421b59': ('tls://10.0.35.76:34187', 'tls://10.0.35.217:40525'), 'open_and_crop-77b58000-8d97-4a4f-8285-d389bb7ac53b': ('tls://10.0.38.148:40545', 'tls://10.0.56.15:36179'), 'open_and_crop-d96c8760-973c-421b-807f-341c206cf805': ('tls://10.0.51.192:42891', 'tls://10.0.56.153:43165'), 'open_and_crop-e25bb5b6-3841-42c4-a16a-4dfb765c26ae': ('tls://10.0.36.165:33843', 'tls://10.0.50.89:41305'), 'open_and_crop-0653cfb8-548a-44b1-a089-b9f7871fdaf6': ('tls://10.0.39.138:40225', 'tls://10.0.34.214:43675'), 'open_and_crop-03456712-4615-40e0-978c-47c3b4c468f8': ('tls://10.0.56.70:34927', 'tls://10.0.61.202:37055'), 'open_and_crop-98c4d0b7-5227-4ec4-a09f-a400472a84cc': ('tls://10.0.39.138:40225',), 'open_and_crop-999ab846-bc4b-4d3c-86d8-6cfba51849c4': ('tls://10.0.33.17:38681', 'tls://10.0.34.214:43675'), 'open_and_crop-ca3db85f-ae22-4372-b75a-7ffebc2e0ede': ('tls://10.0.51.192:42891', 'tls://10.0.44.24:43159'), 'open_and_crop-53208071-9603-47ca-b6bf-dd9d4ecd41df': ('tls://10.0.33.17:38681', 'tls://10.0.51.36:36437'), 'open_and_crop-3df5d48c-4f97-4e8f-bb44-ac7e7b8e84f5': ('tls://10.0.35.76:34187', 'tls://10.0.46.185:35623'), 'open_and_crop-1e2237d6-8ee6-4b15-ba94-c6bade9f9831': ('tls://10.0.34.81:41005', 'tls://10.0.61.202:37055'), 'open_and_crop-3fd68bc7-3b5d-4a0e-9773-e76e1adaeb88': ('tls://10.0.35.177:39773', 'tls://10.0.50.89:41305'), 'open_and_crop-a3e32d96-336d-4901-99b0-b6e04c121745': ('tls://10.0.40.17:45443', 'tls://10.0.38.43:34425'), 'open_and_crop-1d0aa70d-ef6c-43f1-b179-a709a8d770ad': ('tls://10.0.61.202:37055',)}\n"
     ]
    },
    {
     "name": "stdout",
     "output_type": "stream",
     "text": [
      "CPU times: user 12.2 s, sys: 10.1 s, total: 22.3 s\n",
      "Wall time: 7min 30s\n"
     ]
    }
   ],
   "source": [
    "%%time\n",
    "import sys\n",
    "import os\n",
    "sys.path.append('/home/jovyan/intake-aodn')\n",
    "import intake_aodn\n",
    "from intake_aodn.plot import netcdf_save\n",
    "from intake_aodn.utils import get_distributed_cluster\n",
    "\n",
    "client = get_distributed_cluster(worker_cores=2,\n",
    "                                 worker_memory=4,\n",
    "                                 min_workers=1,\n",
    "                                 max_workers=64)\n",
    "\n",
    "def load_creds():\n",
    "    with open(os.environ['HOME'] + '/.aws/credentials','rt') as f:\n",
    "        f.readline()\n",
    "        key=f.readline().split('=')[1].strip()\n",
    "        secret=f.readline().split('=')[1].strip()\n",
    "    return key, secret\n",
    "\n",
    "key,secret=load_creds()\n",
    "\n",
    "storage_options=dict(target_protocol='s3',\n",
    "                     target_options=dict(key=key,secret=secret),\n",
    "                     remote_protocol='s3',\n",
    "                     remote_options=dict(anon=True))\n",
    "\n",
    "data=intake_aodn.cat.aodn_s3.SST_L3S_1d_ngt(startdt='1992-03-21',\n",
    "                                          enddt='2021-06-30',\n",
    "                                          cropto=dict(latitude=slice(-28,-30),longitude=slice(110,112))).read()\n",
    "\n",
    "netcdf_save(data,filename = 'mySSTfile')\n",
    "client.cluster.shutdown()\n"
   ]
  },
  {
   "cell_type": "markdown",
   "id": "7c0b2c2f-1a9c-4033-81d7-ae49cdf2e4e2",
   "metadata": {},
   "source": [
    "*'Let me get that data real quick....'* "
   ]
  }
 ],
 "metadata": {
  "kernelspec": {
   "display_name": "Python 3 (ipykernel)",
   "language": "python",
   "name": "python3"
  },
  "language_info": {
   "codemirror_mode": {
    "name": "ipython",
    "version": 3
   },
   "file_extension": ".py",
   "mimetype": "text/x-python",
   "name": "python",
   "nbconvert_exporter": "python",
   "pygments_lexer": "ipython3",
   "version": "3.8.10"
  }
 },
 "nbformat": 4,
 "nbformat_minor": 5
}
