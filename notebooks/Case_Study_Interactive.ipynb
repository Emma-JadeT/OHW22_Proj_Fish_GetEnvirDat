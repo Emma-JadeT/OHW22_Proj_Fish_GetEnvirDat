{
 "cells": [
  {
   "cell_type": "markdown",
   "id": "3b9ebd70-b103-44dd-b049-fec0d28668a1",
   "metadata": {},
   "source": [
    "Author: Maxime Marin  \n",
    "@: mff.marin@gmail.com\n",
    "\n",
    "# Accessing IMOS data case studies: Walk-through and interactive session - Interactive\n",
    "\n",
    "This notebook shows an interactive way of visualising the data selecting in the \"Start.ipynb\" notebook.  \n",
    "The goal of this interactive coding is to enable users without python knowledge to easily plot basic statistics of the dataset they chose for prelimnary analysis or use of figures.\n",
    "\n",
    "***\n",
    "\n",
    "## 1) Imports\n",
    "\n",
    "Let's start with imports of libraries and data we selected previously.\n"
   ]
  },
  {
   "cell_type": "code",
   "execution_count": 6,
   "id": "2e4cdbdb-5c92-42b3-af9c-45239ee4377b",
   "metadata": {},
   "outputs": [],
   "source": [
    "import sys\n",
    "import os\n",
    "sys.path.append('/home/jovyan/intake-aodn')\n",
    "import intake_aodn\n",
    "from intake_aodn.analysis import time_average, lin_trend\n",
    "from intake_aodn.plot import map_var\n",
    "import ipywidgets as widgets\n",
    "from ipywidgets import interact, interact_manual\n",
    "import numpy as np\n",
    "import matplotlib.pyplot as plt\n",
    "import cartopy\n",
    "import cartopy.crs as ccrs1\n",
    "import cmocean\n",
    "import xarray as xr"
   ]
  },
  {
   "cell_type": "code",
   "execution_count": 7,
   "id": "4f946d27-e181-4652-a1ad-c74f05ff268c",
   "metadata": {},
   "outputs": [],
   "source": [
    "data = xr.open_dataset('Example_Data.nc')"
   ]
  },
  {
   "cell_type": "markdown",
   "id": "a9ee8e1d-68c3-4264-ae6a-16326dae964b",
   "metadata": {},
   "source": [
    "Every notebook starts their own environments so we have to import the `import_aodn` again, along with other libraires used in this notebook.\n",
    "\n",
    "`xr.open_dataset` loads the data we extracted in the previous notebook, so we do not have to load it again.  \n",
    "Now that we loaded the data, we have access to much more details, have a look at \"Attributes\"!\n",
    "\n",
    "Most products \"flag\" the quality of their data to indicate where and when the data might be unreliable. Let's get rid of bad data:"
   ]
  },
  {
   "cell_type": "code",
   "execution_count": 8,
   "id": "dd0b9786-995e-4fc0-b26d-a275a193f422",
   "metadata": {},
   "outputs": [
    {
     "data": {
      "text/plain": [
       "{'comment': 'These are the overall quality indicators and are used for all GHRSST SSTs.In this case they are a function of distance to cloud, satellite zenith angle, and day/night',\n",
       " 'flag_meanings': 'no_data bad_data worst_quality low_quality acceptable_quality best_quality',\n",
       " 'flag_values': array([0, 1, 2, 3, 4, 5]),\n",
       " 'long_name': 'quality level of SST pixel',\n",
       " 'valid_max': 5,\n",
       " 'valid_min': 0,\n",
       " 'coordinates': 'time lat lon'}"
      ]
     },
     "execution_count": 8,
     "metadata": {},
     "output_type": "execute_result"
    }
   ],
   "source": [
    "data.quality_level.attrs"
   ]
  },
  {
   "cell_type": "markdown",
   "id": "613b00e4-1e1a-468a-bd18-5206f3f15e8d",
   "metadata": {},
   "source": [
    "Using the `.attrs` gives us more details about the variable itself. We see that good and excellent quality are flagged 4 and 5, let's get rid of the rest:"
   ]
  },
  {
   "cell_type": "code",
   "execution_count": 9,
   "id": "d1ed11a7-ea01-470b-87b5-5c625e735d0c",
   "metadata": {},
   "outputs": [],
   "source": [
    "data['sea_surface_temperature']-= 273.15 # Kelvin to Celsuis conversion\n",
    "data['sea_surface_temperature'] = data.sea_surface_temperature.where(data.quality_level >=4)# keep only good quality data"
   ]
  },
  {
   "cell_type": "markdown",
   "id": "f2a4a72d-40d4-4bcd-b70b-a562e6efdc8d",
   "metadata": {},
   "source": [
    "***\n",
    "\n",
    "## 2) Location TimeSeries\n",
    "\n",
    "Our data is now ready for visualisation, let's run the cell below. This will output an interactive graph...Let's give it a go!"
   ]
  },
  {
   "cell_type": "code",
   "execution_count": 10,
   "id": "3239e14c-a933-4922-ac97-767dbd37e96b",
   "metadata": {},
   "outputs": [
    {
     "data": {
      "application/vnd.jupyter.widget-view+json": {
       "model_id": "85af6e45ad9c4d3e8ed40e799b2820f9",
       "version_major": 2,
       "version_minor": 0
      },
      "text/plain": [
       "interactive(children=(FloatSlider(value=112.51000213623047, description='longitude', max=114.48999786376953, m…"
      ]
     },
     "metadata": {},
     "output_type": "display_data"
    }
   ],
   "source": [
    "%matplotlib inline \n",
    "@interact\n",
    "def plot_ts(longitude=(data.longitude.values.min(),\n",
    "                       data.longitude.values.max(),\n",
    "                       np.abs(np.diff(data.longitude).mean())),\n",
    "            latitude=(data.latitude.values.min(),\n",
    "                      data.latitude.values.max(),\n",
    "                      np.abs(np.diff(data.latitude).mean())),\n",
    "            time_step = ['month','year'],variable = list(data.keys())):\n",
    "\n",
    "    ylab = variable\n",
    "    freq = {'month':'M','year':'Y'}\n",
    "    if time_step == 'day':\n",
    "        test = data[variable]\n",
    "    else:\n",
    "        test = time_average(data,freq[time_step],var=ylab,ignore_inc = False)\n",
    "      \n",
    "    fig = plt.figure(figsize=(30,8))\n",
    "    plt.subplot(1,2,1)\n",
    "    coef,fit,hci,lci = lin_trend(test.sel(longitude=longitude,latitude=latitude),'time')\n",
    "    fit = fit.assign(hci = hci['linear_fit'], lci = lci['linear_fit'])\n",
    "\n",
    "    test.sel(longitude=longitude,latitude=latitude).plot() \n",
    "    fit['linear_fit'].plot(color='red') \n",
    "    xl = test.coords['time'].values\n",
    "    plt.xlim(xl.min(),xl.max())\n",
    "    \n",
    "    plt.fill_between(lci['time'].values,lci['linear_fit'].values,hci['linear_fit'].values,alpha=0.5,color='grey')\n",
    "    plt.gca().set_ylabel(ylab,fontsize = 20)\n",
    "    plt.gca().set_xlabel(plt.gca().get_xlabel(),fontsize = 20)\n",
    "    plt.gca().tick_params(labelsize = 15)\n",
    "    plt.gca().set_title(time_step+'ly mean - lon:'+str(round(longitude,5))+ ' ; lat:'+str(round(latitude,5)),fontsize = 20);\n",
    "    \n",
    "    plt.subplot(1,4,3,projection=ccrs1.PlateCarree())\n",
    "    ax,gl,axproj = map_var(data[ylab].mean(dim='time'),[data.longitude.min(),data.longitude.max()],[data.latitude.min(),data.latitude.max()],cmap = cmocean.cm.thermal,add_colorbar = True,title='Time-Mean',cbar_kwargs={'shrink':0.6})\n",
    "    ax.set_title(ax.get_title(),fontsize = 20)\n",
    "    gl.xlabel_style = {'size':12}\n",
    "    gl.ylabel_style = {'size':12}\n",
    "    plt.scatter(longitude,latitude,s=55,marker=\"o\",edgecolor = 'black',color = 'white',zorder=3)\n",
    "    fig1 = plt.gcf()\n",
    "    plt.show()\n",
    "    \n",
    "    def save_fig(button):\n",
    "        fig1.savefig(\"ts_location_lon {:.2f} _lat {:.2f}.png\".format(longitude,latitude))\n",
    "    save_but = widgets.Button(description='Save Figure')\n",
    "    display(save_but)\n",
    "    save_but.on_click(save_fig)\n",
    "    \n",
    "    return"
   ]
  },
  {
   "cell_type": "markdown",
   "id": "eaeb424b-df00-4fb4-8e4e-fbd3f98b399f",
   "metadata": {},
   "source": [
    "We have created an environment where users can freely select different locations and variable which will update the plot acconrdingly  \n",
    "\n",
    "Note that the map on the left shows the time-mean state of the variable chosen\n",
    "\n",
    "The time_step dropdown box allows the user to swtich from monthly to yearly means.\n",
    "\n",
    "Finally, the unser can save the figure by either right-clicking on it, or press the 'Save Figure' button. The latter will save the figure directly in the working directory. \n",
    "\n",
    "***\n",
    "\n",
    "## 3) Interactive Map\n",
    "\n",
    "We can dig further into basic visualisation by creating an interactive map which allows us to have a better feel of what the data looks like.  \n",
    "Run the cell the next cell and experiment!\n"
   ]
  },
  {
   "cell_type": "code",
   "execution_count": 11,
   "id": "b43f2c4b-5972-4ec6-8aa0-b81163a9b9a8",
   "metadata": {},
   "outputs": [
    {
     "name": "stdout",
     "output_type": "stream",
     "text": [
      "Specifying '0' for Day/Month/Year will perform a monthly/yearly/time average\n"
     ]
    },
    {
     "data": {
      "application/vnd.jupyter.widget-view+json": {
       "model_id": "6d375e319d3841198155b0b26ad23078",
       "version_major": 2,
       "version_minor": 0
      },
      "text/plain": [
       "interactive(children=(Dropdown(description='Day', options=(0, 1, 2, 3, 4, 5, 6, 7, 8, 9, 10, 11, 12, 13, 14, 1…"
      ]
     },
     "metadata": {},
     "output_type": "display_data"
    }
   ],
   "source": [
    "# Interactive Map\n",
    "\n",
    "import calendar\n",
    "from intake_aodn.plot import create_cb\n",
    "from time import strptime\n",
    "\n",
    "\n",
    "day_list = np.arange(0,31,1)\n",
    "month_list = [calendar.month_abbr[x] for x in np.arange(0,12,1)]\n",
    "year_list = np.append(0,np.unique(data.time.dt.year))\n",
    "\n",
    "print(\"Specifying '0' for Day/Month/Year will perform a monthly/yearly/time average\")\n",
    "#box_layout = Layout(display = 'flex',flex_flow = 'row')\n",
    "@interact\n",
    "def plot_ts(Day = day_list, Month = month_list, Year = year_list,variable = list(data.keys())):\n",
    "    ylab = variable\n",
    "    day_sel = np.arange(1,32,1) if Day == 0 else Day\n",
    "    mn_sel = np.arange(1,13,1) if Month == '' else strptime(Month,'%b').tm_mon\n",
    "    yr_sel = np.arange(data.time.dt.year.min(),data.time.dt.year.max()+1,1) if Year == 0 else Year\n",
    "    \n",
    "    date_str = str(Year) + '-' + str(Month) + '-' + str(Day)\n",
    "    \n",
    "    title_yr = f\"{Year:04}\"\n",
    "    title_mn =  Month\n",
    "    title_day = f\"{Day:02}\"\n",
    "    if Year == 0:\n",
    "        title_yr = 'All'\n",
    "    if Month == '':\n",
    "        title_mn = 'All'\n",
    "    if Day == 0:\n",
    "        title_day = 'All'\n",
    "    if (Year == 0) & (Month == 0) & (Day == 0):\n",
    "        title = 'Time-Mean'\n",
    "    else:\n",
    "        title = 'Year: {}   Month: {}   Day: {}'.format(title_yr,title_mn,title_day)\n",
    "\n",
    "    da = data[ylab][(data.time.dt.year.isin(yr_sel)) & (data.time.dt.month.isin(mn_sel)) & data.time.dt.day.isin(day_sel)].mean(dim = 'time')\n",
    "    fig1 = plt.figure(figsize=(20,12))\n",
    "    ax,gl,axpl = map_var(da,[data.longitude.min(),data.longitude.max()],[data.latitude.min(),data.latitude.max()],cmap = cmocean.cm.thermal,add_colorbar = False,title=title)\n",
    "    cb = create_cb(fig1,ax,axpl,variable,size = \"4%\", pad = 0.5,labelpad = 20,fontsize=20)\n",
    "    cb.ax.tick_params(labelsize = 15)\n",
    "    ax.set_title(ax.get_title(),fontsize = 25)\n",
    "    gl.xlabel_style = {'size':15}\n",
    "    gl.ylabel_style = {'size':15}\n",
    "    \n",
    "    def save_fig(button):\n",
    "        fig1.savefig(\"map_yr{}_mn{}_dy{}.png\".format(title_yr,title_mn,title_day))\n",
    "    save_but = widgets.Button(description='Save Figure')\n",
    "    display(save_but)\n",
    "    save_but.on_click(save_fig)\n"
   ]
  },
  {
   "cell_type": "markdown",
   "id": "0b0e7cff-7d14-4b9d-b9d3-77e9489dddcc",
   "metadata": {},
   "source": [
    "Et voila, we can now map the state of our selected region and chose what day we want to look at.  \n",
    "\n",
    "Notice that you can set values of the day month and year to zero (no value for month)? This will indicate that you do not care about that time attribute: day 0 will perform a monthly average, month and day 0 will perform a yearly average... and so forth."
   ]
  }
 ],
 "metadata": {
  "kernelspec": {
   "display_name": "Python 3 (ipykernel)",
   "language": "python",
   "name": "python3"
  },
  "language_info": {
   "codemirror_mode": {
    "name": "ipython",
    "version": 3
   },
   "file_extension": ".py",
   "mimetype": "text/x-python",
   "name": "python",
   "nbconvert_exporter": "python",
   "pygments_lexer": "ipython3",
   "version": "3.8.10"
  }
 },
 "nbformat": 4,
 "nbformat_minor": 5
}
