{
 "cells": [
  {
   "cell_type": "markdown",
   "metadata": {},
   "source": [
    "Author: Maxime Marin \\\n",
    "@: mff.marin@gmail.com\n",
    "\\\n",
    "\\\n",
    "<font color='blue' size = 8 > <strong> 1) INTRODUCTION </strong>  </font>\\\n",
    "\\\n",
    "<font size = 4> The next few notebooks aim to provide case studies using the cloud cluster availability demonstrated earlier, in order to investigate, load, visualise analyse and extract data stored on external servers.\\\n",
    "Main advantages include speed, ease of use and repeatability. Although we are using a python enviornment, novice python users can following the receipe and adapt them to their needs.\n",
    "\\\n",
    "\\\n",
    "Sections will be divided into different notebooks focusing on different tasks including:</font>\n",
    "\n",
    "&nbsp;&nbsp;&nbsp;&nbsp;&nbsp;&nbsp;<font size = 4><font color='green'><strong>  - Notebook 1 Start:</strong> </font> Imports libraries, fires up the cluster, provides quick description of datasets available and loads dataset of interest.\\\n",
    "&nbsp;&nbsp;&nbsp;&nbsp;&nbsp;&nbsp;<font color='green'><strong>- Notebook 2 Interactive:</strong></font> Provides interactive tools to investigate a the chosen dataset and make some quick plots.\\\n",
    "&nbsp;&nbsp;&nbsp;&nbsp;&nbsp;&nbsp;<font color='green'><strong>- Notebook 3 Analysis:</strong></font> Performs further analysis on the chosen dataset including climatology, linear trends and anomalies.\\\n",
    "&nbsp;&nbsp;&nbsp;&nbsp;&nbsp;&nbsp;<font color='green'><strong>- Notebook 4 Data Extraction:</strong></font> Extracts data into a format of choice and saves it locally for the user to perform more in-depth analysis .</font>\\\n",
    "\n"
   ]
  },
  {
   "cell_type": "markdown",
   "metadata": {},
   "source": [
    "***\n",
    "<font color='blue' size =8> <strong> 2) LIBRARIES </strong>  </font>\\\n",
    "\\\n",
    "<font size = 4>At the beginning of all notebooks, it is necessary to load the packages that will be used to run the code. Note that some libraries might be called within other \"bits\" of code hidden in other files.\\\n",
    "\"importing\" a librarie or package supposes that it was loaded in the python environment  prior to running the notebooks... Thankfully we have taken care of that. </font>\n"
   ]
  },
  {
   "cell_type": "code",
   "execution_count": 1,
   "metadata": {},
   "outputs": [],
   "source": [
    "import sys\n",
    "#Ensure latest version of fsspec is used to allow simpletemplate=True of reference file system\n",
    "sys.path.insert(0,'/home/jovyan/filesystem_spec')\n",
    "\n",
    "import xarray as xr \n",
    "import numpy as np\n",
    "import pandas as pd\n",
    "import cmocean\n",
    "from scipy import stats\n",
    "import matplotlib.pyplot as plt\n",
    "import cmocean\n",
    "import cartopy\n",
    "import cartopy.crs as ccrs\n",
    "import datetime\n",
    "import fsspec\n",
    "import xarray as xr\n",
    "import os, glob\n",
    "from time import strptime\n",
    "import ipywidgets as widgets\n",
    "from ipywidgets import interact, interact_manual\n",
    "\n",
    "%run SST_fun.ipynb"
   ]
  },
  {
   "cell_type": "markdown",
   "metadata": {},
   "source": [
    "***\n",
    "<font color='blue' size = 8 > <strong> 3) CLUSTER FIRING </strong>  </font>\\\n",
    "\\\n",
    "<font  size = 4 >Let's now create a cluster to allow for an exponentional increase in speed.\\\n",
    "For comparison, typical laptops have just 8-16 Gb of memory and run on 4-8 CPUs...</font>\\"
   ]
  },
  {
   "cell_type": "code",
   "execution_count": 2,
   "metadata": {},
   "outputs": [
    {
     "name": "stdout",
     "output_type": "stream",
     "text": [
      "Creating new cluster. Please wait for this to finish.\n"
     ]
    },
    {
     "data": {
      "application/vnd.jupyter.widget-view+json": {
       "model_id": "9d0b6e2915da44e383e64bbe534765bb",
       "version_major": 2,
       "version_minor": 0
      },
      "text/plain": [
       "VBox(children=(HTML(value='<h2>GatewayCluster</h2>'), HBox(children=(HTML(value='\\n<div>\\n<style scoped>\\n    …"
      ]
     },
     "metadata": {},
     "output_type": "display_data"
    },
    {
     "data": {
      "text/html": [
       "<div>\n",
       "    <div style=\"width: 24px; height: 24px; background-color: #e1e1e1; border: 3px solid #9D9D9D; border-radius: 5px; position: absolute;\"> </div>\n",
       "    <div style=\"margin-left: 48px;\">\n",
       "        <h3 style=\"margin-bottom: 0px;\">Client</h3>\n",
       "        <p style=\"color: #9D9D9D; margin-bottom: 0px;\">Client-d36783b7-3c3d-11ec-805b-2efde4dc298b</p>\n",
       "        <table style=\"width: 100%; text-align: left;\">\n",
       "\n",
       "        <tr>\n",
       "        \n",
       "            <td style=\"text-align: left;\"><strong>Connection method:</strong> Cluster object</td>\n",
       "            <td style=\"text-align: left;\"><strong>Cluster type:</strong> dask_gateway.GatewayCluster</td>\n",
       "        \n",
       "        </tr>\n",
       "\n",
       "        \n",
       "            <tr>\n",
       "                <td style=\"text-align: left;\">\n",
       "                    <strong>Dashboard: </strong> <a href=\"https://hub.csiro.easi-eo.solutions/services/dask-gateway/clusters/easihub.0bf1175c95d2493b9ce09ece08d9fc17/status\" target=\"_blank\">https://hub.csiro.easi-eo.solutions/services/dask-gateway/clusters/easihub.0bf1175c95d2493b9ce09ece08d9fc17/status</a>\n",
       "                </td>\n",
       "                <td style=\"text-align: left;\"></td>\n",
       "            </tr>\n",
       "        \n",
       "\n",
       "        </table>\n",
       "\n",
       "        \n",
       "            <details>\n",
       "            <summary style=\"margin-bottom: 20px;\"><h3 style=\"display: inline;\">Cluster Info</h3></summary>\n",
       "            <div style='background-color: #f2f2f2; display: inline-block; padding: 10px; border: 1px solid #999999;'>\n",
       "  <h3>GatewayCluster</h3>\n",
       "  <ul>\n",
       "    <li><b>Name: </b>easihub.0bf1175c95d2493b9ce09ece08d9fc17\n",
       "    <li><b>Dashboard: </b><a href='https://hub.csiro.easi-eo.solutions/services/dask-gateway/clusters/easihub.0bf1175c95d2493b9ce09ece08d9fc17/status' target='_blank'>https://hub.csiro.easi-eo.solutions/services/dask-gateway/clusters/easihub.0bf1175c95d2493b9ce09ece08d9fc17/status</a>\n",
       "  </ul>\n",
       "</div>\n",
       "\n",
       "            </details>\n",
       "        \n",
       "\n",
       "    </div>\n",
       "</div>"
      ],
      "text/plain": [
       "<Client: 'tls://10.0.55.86:8786' processes=179 threads=179, memory=179.00 GiB>"
      ]
     },
     "metadata": {},
     "output_type": "display_data"
    }
   ],
   "source": [
    "## change after Paul's commit\n",
    "gateway_cluster = True\n",
    "from dask.distributed import Client, LocalCluster\n",
    "from dask_gateway import Gateway\n",
    "\n",
    "# Dask gateway\n",
    "if gateway_cluster:\n",
    "    gateway = Gateway()\n",
    "    clusters = gateway.list_clusters()\n",
    "    if not clusters:\n",
    "        print('Creating new cluster. Please wait for this to finish.')\n",
    "        options = gateway.cluster_options()\n",
    "        options.worker_cores = 1\n",
    "        options.worker_memory = 1.0\n",
    "        cluster = gateway.new_cluster(cluster_options=options)\n",
    "    else:\n",
    "        print(f'An existing cluster was found. Connected to cluster \\033[1m{clusters[0].name}\\033[0m')\n",
    "        cluster=gateway.connect(clusters[0].name)\n",
    "        cluster.adapt(minimum=1, maximum=30)\n",
    "    #cluster.scale(180)\n",
    "    client = cluster.get_client()\n",
    "    #client.wait_for_workers(n_workers=180)\n",
    "\n",
    "# Local cluster\n",
    "else:\n",
    "    cluster = LocalCluster()\n",
    "    client = Client(cluster)\n",
    "\n",
    "display(cluster)\n",
    "display(client)"
   ]
  },
  {
   "cell_type": "markdown",
   "metadata": {},
   "source": [
    "<font  size = 4 >Let's click on the \"Dashboard\" link to access all details of the cluster we have created.</font>"
   ]
  },
  {
   "cell_type": "markdown",
   "metadata": {},
   "source": [
    "***\n",
    "<font color='blue' size = 8 > <strong> 4) DATA DESCRIPTION </strong>  </font>\n",
    "\n",
    "<font size = 4> Finally, let's have a look at what the available datasets are, along with some information about their metadata.\\\n",
    "\\\n",
    "For this workshop, we have provided users with a choice between:</font>\n",
    "  \n",
    "<font size = 4>&nbsp;&nbsp;&nbsp;&nbsp;&nbsp;&nbsp;<font color='green'><strong>- IMOS SST:</strong></font> Satellite SST product created by IMOS hosted on the AODN servers.\\\n",
    "&nbsp;&nbsp;&nbsp;&nbsp;&nbsp;&nbsp;<font color='green'><strong>- BRAN 2020:</strong></font> The CSIRO BlueLink Reanalysis product hosted on NCI. Only a few variables have been chosen for the sake of the workshop\\\n",
    "&nbsp;&nbsp;&nbsp;&nbsp;&nbsp;&nbsp;<font color='green'><strong>- IMOS Chlorophyll:</strong></font> Satellite Chlorophyll product created by IMOS hosted on the AODN servers..\\\n",
    "&nbsp;&nbsp;&nbsp;&nbsp;&nbsp;&nbsp;<font color='green'><strong>- IMOS SLA:</strong></font> Sea Level Anomaly derived from satellite, created by IMOS and hosted on the AODN servers.</font>"
   ]
  },
  {
   "cell_type": "code",
   "execution_count": 2,
   "metadata": {},
   "outputs": [],
   "source": [
    "# Interactive panel to list details of different available products, including variables, coordinates, time step and text description.\n",
    "#@interact\n",
    "#def show_timeseries(coord = ['lon','lat','time']):\n",
    "#    return data[coord]\n",
    "  "
   ]
  },
  {
   "cell_type": "code",
   "execution_count": 144,
   "metadata": {},
   "outputs": [
    {
     "data": {
      "application/vnd.jupyter.widget-view+json": {
       "model_id": "c1292848bf1f4405b84c29187c33e748",
       "version_major": 2,
       "version_minor": 0
      },
      "text/plain": [
       "Dropdown(description='Spatial', options=('Single', 'Area'), value='Single')"
      ]
     },
     "metadata": {},
     "output_type": "display_data"
    },
    {
     "data": {
      "application/vnd.jupyter.widget-view+json": {
       "model_id": "b280051d79bb4a6d8342c263b93d40d0",
       "version_major": 2,
       "version_minor": 0
      },
      "text/plain": [
       "FloatText(value=0.0, description='Lon')"
      ]
     },
     "metadata": {},
     "output_type": "display_data"
    }
   ],
   "source": [
    "w1 = widgets.Dropdown(options = [\"Single\",\"Area\"],description='Spatial')\n",
    "display(w1)\n",
    "\n",
    "if w1 == 'Single':\n",
    "    w2 = widgets.FloatText(description='Lon')\n",
    "    w3 = widgets.FloatText(description='Lat')\n",
    "else\n",
    "\n",
    "    \n",
    "display(w2)"
   ]
  },
  {
   "cell_type": "code",
   "execution_count": 3,
   "metadata": {},
   "outputs": [],
   "source": [
    "#cluster.shutdown()"
   ]
  }
 ],
 "metadata": {
  "kernelspec": {
   "display_name": "Python 3 (ipykernel)",
   "language": "python",
   "name": "python3"
  },
  "language_info": {
   "codemirror_mode": {
    "name": "ipython",
    "version": 3
   },
   "file_extension": ".py",
   "mimetype": "text/x-python",
   "name": "python",
   "nbconvert_exporter": "python",
   "pygments_lexer": "ipython3",
   "version": "3.8.10"
  }
 },
 "nbformat": 4,
 "nbformat_minor": 4
}
