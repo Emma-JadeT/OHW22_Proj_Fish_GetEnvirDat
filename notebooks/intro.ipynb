{
 "cells": [
  {
   "cell_type": "markdown",
   "id": "60a7fb53-0eac-43c6-a497-eeab8b2d644e",
   "metadata": {},
   "source": [
    "# A quick look at Jupyter and Python \n",
    "\n",
    "(R can run in Jupyter as well (but not on this server!)\n",
    " \n",
    "This is a text cell\n",
    "\n",
    "Click this to find out more about jupyter\n",
    "https://www.earthdatascience.org/courses/intro-to-earth-data-science/file-formats/use-text-files/format-text-with-markdown-jupyter-notebook/"
   ]
  },
  {
   "cell_type": "markdown",
   "id": "a59aafc6-e5a2-40a8-98ca-e39ad1ce3c37",
   "metadata": {},
   "source": [
    "# Speech: “Now is the winter of our discontent”\n",
    "BY WILLIAM SHAKESPEARE\n",
    "\n",
    "*Now is the winter of our discontent\n",
    "Made glorious summer by this sun of York;\\\n",
    "And all the clouds that lour'd upon our house\n",
    "In the deep bosom of the ocean buried.*"
   ]
  },
  {
   "cell_type": "markdown",
   "id": "30dc7c0c-f660-4915-a31f-3a31bee4ea4f",
   "metadata": {},
   "source": [
    "# Writing equations\n",
    "https://medium.com/analytics-vidhya/writing-math-equations-in-jupyter-notebook-a-naive-introduction-a5ce87b9a214"
   ]
  },
  {
   "cell_type": "markdown",
   "id": "3a884f80-4535-4d00-b154-46833cd9f179",
   "metadata": {},
   "source": [
    "***\n",
    "$\\mathbf{\\text{Gradient Tree Boosting Algorithm}}$<br>\n",
    "***\n",
    "1.&emsp;Initialize model with a constant value $$f_{0}(x) = \\textrm{arg min}_{\\gamma} \\sum \\limits _{i=1} ^{N} L(y_{i}, \\gamma)$$\n",
    "2.&emsp;For m = 1 to M:<br>\n",
    "&emsp;&emsp;(a)&emsp;For $i = 1,2,...,N$ compute<br>\n",
    "    $$r_{im} = - \\displaystyle \\Bigg[\\frac{\\partial L(y_{i}, f(x_{i}))}{\\partial f(x_{i})}\\Bigg]_{f=f_{m−1}}$$\n",
    "&emsp;&emsp;(b)&emsp;Fit a regression tree to the targets $r_{im}$ giving terminal regions<br>\n",
    "&emsp;&emsp;&emsp;&emsp;$R_{jm}, j = 1, 2, . . . , J_{m}.$<br><br>\n",
    "&emsp;&emsp;(c)&emsp;For $j = 1, 2, . . . , J_{m}$ compute<br>\n",
    "$$\\gamma_{jm} = \\underset{\\gamma}{\\textrm{arg min}} \\sum \\limits _{x_{i} \\in R_{jm}} L(y_{i}, f_{m−1}(x_{i}) + \\gamma)$$\n",
    "<br>\n",
    "&emsp;&emsp;(d)&emsp;Update $f_{m}(x) = f_{m−1}(x) + \\sum _{j=1} ^{J_{m}} \\gamma_{jm} I(x \\in R_{jm})$<br><br>\n",
    "3. Output $\\hat{f}(x) = f_{M}(x)$\n",
    "***"
   ]
  },
  {
   "cell_type": "markdown",
   "id": "84ddbcf0-3daa-49ae-9279-2b4ffe001901",
   "metadata": {},
   "source": [
    "### Definitions\n",
    "\n",
    "The definitions of Hobday et al. (2016) are given below (or refer to Table 2 of the paper). \n",
    "\n",
    "*Climatology* \n",
    "_T<sub>m</sub>_ (deg C) is the climatological mean, defined with the following equation\n",
    "$$T_m\\left(j\\right)=\\sum_{y=y_s}^{y_e}\\sum_{d=j-5}^{j+5}\\frac{T\\left(y,d\\right)}{11\\left(y_e-y_s+1\\right)}\"$$ Subscripts _s_ and _e_ are _start_ and _end_ of the climatological record, _T_ is the temperature (defined as daily temperature), _j_ the day of the year index. _T(d,y)_ indicates the SST on the _d:day_ and _y:year_."
   ]
  },
  {
   "cell_type": "markdown",
   "id": "3c2c8003-8270-4517-99d2-d5070cee3497",
   "metadata": {},
   "source": [
    "If you are on a Mac, substitute `command` for `control`. Don't type the _+_ (it means press both keys at once).\n",
    "\n",
    "Shortcuts when in either _command mode_ (outside the cells) or _edit mode_ (inside a cell):\n",
    "---\n",
    "- `Shift` + `Enter` run selected cell or cells - if no cells below, insert a code cell below\n",
    "\n",
    "- `Ctrl` + `B` toggle hide/show left sidebar\n",
    "\n",
    "- `Ctrl` + `S` save and checkpoint\n",
    "- `Ctrl` + `Shift` + `S` save as\n",
    "- `Ctrl` + `F` find \n",
    "\n",
    "Shortcuts when in _command mode_ (outside the cells, no blinking cursor):\n",
    "---\n",
    "- `Enter` enter _edit mode_ in the active cell\n",
    "\n",
    "- Scroll up with the up arrow \n",
    "- Scroll down with the down arrow\n",
    "\n",
    "- `A` insert a new cell above the active cell\n",
    "- `B` insert a new cell below the active cell\n",
    "\n",
    "- `M` make the active cell a Markdown cell\n",
    "- `Y` make the active cell a code cell\n",
    "\n",
    "- `Shift` + `Up Arrow` select the current cell and the cell above\n",
    "- `Shift` + `Down Arrow` select the current cell and the cell below\n",
    "- `Ctrl` + `A` select all cells\n",
    "\n",
    "- `X` cut the selected cell or cells\n",
    "- `C` copy the selected cell or cells\n",
    "- `V` paste the cell(s) which were copied or cut most recently\n",
    "\n",
    "- `Shift + M` merge multiple selected cells into one cell\n",
    "\n",
    "- `DD` (`D` twice) delete the active cell\n",
    "- `00` (Zero twice) restart the kernel\n",
    "\n",
    "- `Z` undo most recent command mode action\n",
    "\n",
    "Shortcuts when in _edit mode_ (inside a cell with a blinking cursor):\n",
    "---\n",
    "\n",
    "- `Esc` enter _command mode_\n",
    "\n",
    "- `Tab` code completion (or indent if at start of line)\n",
    "- `Shift` + `Tab` tooltip help\n",
    "- `Ctrl` + `Shift` + `-` split the active cell at the cursor\n",
    "\n",
    "The usual commands for code editors:\n",
    "\n",
    "- `Ctrl` + `]` indent\n",
    "- `Ctrl` + `[` dedent\n",
    "\n",
    "- `Ctrl` + `/` toggle comment\n",
    "\n",
    "Plus the usual shortcuts for select all, cut, copy, paste, undo, etc."
   ]
  },
  {
   "cell_type": "markdown",
   "id": "dde5c77f-9d04-4fb2-acaa-de3dc453c82e",
   "metadata": {
    "tags": []
   },
   "source": [
    "# Lets write some python\n",
    "\n",
    "print('hello world')"
   ]
  },
  {
   "cell_type": "code",
   "execution_count": 7,
   "id": "69784cf7",
   "metadata": {},
   "outputs": [
    {
     "name": "stdout",
     "output_type": "stream",
     "text": [
      "hello world\n"
     ]
    }
   ],
   "source": [
    "print('hello world')"
   ]
  },
  {
   "cell_type": "code",
   "execution_count": null,
   "id": "2e1cef29-72f1-47f4-9f5f-45f5f606774d",
   "metadata": {},
   "outputs": [],
   "source": []
  }
 ],
 "metadata": {
  "kernelspec": {
   "display_name": "Python 3 (ipykernel)",
   "language": "python",
   "name": "python3"
  },
  "language_info": {
   "codemirror_mode": {
    "name": "ipython",
    "version": 3
   },
   "file_extension": ".py",
   "mimetype": "text/x-python",
   "name": "python",
   "nbconvert_exporter": "python",
   "pygments_lexer": "ipython3",
   "version": "3.8.10"
  }
 },
 "nbformat": 4,
 "nbformat_minor": 5
}
