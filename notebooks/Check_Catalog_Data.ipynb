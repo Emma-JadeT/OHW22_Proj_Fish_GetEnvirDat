{
 "cells": [
  {
   "cell_type": "markdown",
   "id": "e109baf5-60ae-4c93-8a1f-a20ed23a8ffe",
   "metadata": {},
   "source": [
    "# Notebook to loop through the available datasets and check they load OK"
   ]
  },
  {
   "cell_type": "code",
   "execution_count": 1,
   "id": "296a99e9-5171-44b0-8c51-026e3846d0b4",
   "metadata": {},
   "outputs": [
    {
     "ename": "ModuleNotFoundError",
     "evalue": "No module named 'intake_aodn'",
     "output_type": "error",
     "traceback": [
      "\u001b[0;31m---------------------------------------------------------------------------\u001b[0m",
      "\u001b[0;31mModuleNotFoundError\u001b[0m                       Traceback (most recent call last)",
      "\u001b[0;32m/tmp/ipykernel_5459/342074067.py\u001b[0m in \u001b[0;36m<module>\u001b[0;34m\u001b[0m\n\u001b[1;32m      2\u001b[0m \u001b[0;32mimport\u001b[0m \u001b[0mos\u001b[0m\u001b[0;34m\u001b[0m\u001b[0;34m\u001b[0m\u001b[0m\n\u001b[1;32m      3\u001b[0m \u001b[0msys\u001b[0m\u001b[0;34m.\u001b[0m\u001b[0mpath\u001b[0m\u001b[0;34m.\u001b[0m\u001b[0mappend\u001b[0m\u001b[0;34m(\u001b[0m\u001b[0;34m'/jovyan/home/intake-aodn'\u001b[0m\u001b[0;34m)\u001b[0m\u001b[0;34m\u001b[0m\u001b[0;34m\u001b[0m\u001b[0m\n\u001b[0;32m----> 4\u001b[0;31m \u001b[0;32mimport\u001b[0m \u001b[0mintake_aodn\u001b[0m\u001b[0;34m\u001b[0m\u001b[0;34m\u001b[0m\u001b[0m\n\u001b[0m\u001b[1;32m      5\u001b[0m \u001b[0;32mimport\u001b[0m \u001b[0mintake\u001b[0m\u001b[0;34m\u001b[0m\u001b[0;34m\u001b[0m\u001b[0m\n",
      "\u001b[0;31mModuleNotFoundError\u001b[0m: No module named 'intake_aodn'"
     ]
    }
   ],
   "source": [
    "import sys\n",
    "import os\n",
    "sys.path.append('/home/jovyan/intake-aodn')\n",
    "import intake_aodn\n",
    "import intake"
   ]
  },
  {
   "cell_type": "code",
   "execution_count": null,
   "id": "842672da-ac43-4d29-8aaf-d3f52f7df0e4",
   "metadata": {},
   "outputs": [],
   "source": [
    "import logging\n",
    "logging.basicConfig()\n",
    "logger=logging.getLogger('intake-aodn')\n",
    "logger.setLevel(logging.DEBUG)"
   ]
  },
  {
   "cell_type": "code",
   "execution_count": null,
   "id": "f974d2aa-1570-45e5-954d-b720f00cf536",
   "metadata": {},
   "outputs": [],
   "source": [
    "from intake_aodn.utils import get_local_cluster\n",
    "client = get_local_cluster()\n",
    "client"
   ]
  },
  {
   "cell_type": "code",
   "execution_count": null,
   "id": "11830734-7dc7-4a07-a146-b82338d32e02",
   "metadata": {},
   "outputs": [],
   "source": [
    "dsets = []\n",
    "for entry in intake_aodn.cat.aodn_s3:\n",
    "    print(entry)\n",
    "    ds=intake_aodn.cat.aodn_s3[entry](startdt='2021-01-01',\n",
    "                                      enddt='2021-03-01',\n",
    "                                      cropto=dict(latitude=-32.,longitude=115.,method='nearest')).read()\n",
    "    dsets.append(ds)"
   ]
  },
  {
   "cell_type": "code",
   "execution_count": null,
   "id": "35e98499-c659-4600-adf8-12ee04785cfb",
   "metadata": {},
   "outputs": [],
   "source": [
    "import xarray as xr\n",
    "ds = xr.merge(dsets,compat='override')"
   ]
  },
  {
   "cell_type": "code",
   "execution_count": null,
   "id": "e87096b5-412e-4b73-9844-f920fb3adad0",
   "metadata": {},
   "outputs": [],
   "source": [
    "ds"
   ]
  },
  {
   "cell_type": "code",
   "execution_count": null,
   "id": "33c7a1a6-0770-4ce4-9c9f-15f0a68cff7a",
   "metadata": {},
   "outputs": [],
   "source": [
    "import matplotlib.pyplot as plt\n",
    "variables = ['sea_surface_temperature','chl_oc3','chl_gsm','K_490']\n",
    "fig, axs = plt.subplots(len(variables),1,sharex=True,figsize=(8,10))\n",
    "for i,v in enumerate(variables):\n",
    "    ds[v].plot(ax=axs[i],marker='.')\n",
    "fig.tight_layout()"
   ]
  },
  {
   "cell_type": "code",
   "execution_count": null,
   "id": "165ba40b-4fb4-4c42-9246-55bd8ce74e51",
   "metadata": {},
   "outputs": [],
   "source": []
  }
 ],
 "metadata": {
  "kernelspec": {
   "display_name": "Python 3 (ipykernel)",
   "language": "python",
   "name": "python3"
  },
  "language_info": {
   "codemirror_mode": {
    "name": "ipython",
    "version": 3
   },
   "file_extension": ".py",
   "mimetype": "text/x-python",
   "name": "python",
   "nbconvert_exporter": "python",
   "pygments_lexer": "ipython3",
   "version": "3.8.10"
  }
 },
 "nbformat": 4,
 "nbformat_minor": 5
}
