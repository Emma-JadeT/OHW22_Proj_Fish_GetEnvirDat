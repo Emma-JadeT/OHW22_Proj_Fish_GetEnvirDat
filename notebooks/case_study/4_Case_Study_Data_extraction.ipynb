{
 "cells": [
  {
   "cell_type": "markdown",
   "id": "31ff0cd4-4cbb-4880-b5d8-e5e807212d5e",
   "metadata": {},
   "source": [
    "Author: Maxime Marin  \n",
    "@: mff.marin@gmail.com\n",
    "\n",
    "# Accessing IMOS data case studies: Walk-through and interactive session - Data Extraction\n",
    "\n",
    "*'Ok Max, very cool but I really just want to save the data and do my own stuff'*\n",
    "\n",
    "In this very short notebook, we show that once you have loaded your data, it is very easy to extract it out of jupyter onto a variety of format. \n",
    "\n",
    "## 1) Saving data\n",
    "\n",
    "Let's bring back our dataset (new notebook), import some libraries and save it:\n"
   ]
  },
  {
   "cell_type": "code",
   "execution_count": 1,
   "id": "e3e0a436-f751-4322-8e87-93efca42ae34",
   "metadata": {},
   "outputs": [],
   "source": [
    "import sys\n",
    "import os\n",
    "\n",
    "sys.path.append('/home/jovyan/intake-aodn')\n",
    "import intake_aodn\n",
    "from intake_aodn.utils import save_netcdf"
   ]
  },
  {
   "cell_type": "code",
   "execution_count": 2,
   "id": "b6f05806-a06f-4929-bc63-194db7323569",
   "metadata": {},
   "outputs": [],
   "source": [
    "import xarray as xr\n",
    "data = xr.open_dataset('Example_Data.nc')"
   ]
  },
  {
   "cell_type": "code",
   "execution_count": 3,
   "id": "c097ac40-8fc5-421a-9a18-e7f39c8ab010",
   "metadata": {},
   "outputs": [
    {
     "name": "stdout",
     "output_type": "stream",
     "text": [
      "CPU times: user 537 ms, sys: 208 ms, total: 745 ms\n",
      "Wall time: 844 ms\n"
     ]
    }
   ],
   "source": [
    "%%time\n",
    "df = data.stack(space=['longitude','latitude']).mean(dim='space').to_dataframe()\n",
    "df.to_csv('box_averaged.csv',float_format = '%.2f', na_rep = 'NaN')"
   ]
  },
  {
   "cell_type": "markdown",
   "id": "563564ea-fc2a-4b8e-877f-c8b0494b3f86",
   "metadata": {},
   "source": [
    "We can of course save the data under a csv format. In the cell above, we first get the box-averaged timeseries and save it at a daily frequency.  \n",
    "If we open the file in jupyter or excel, we will see that the file contains a number of row equals to the number of time entries in our dataset (~10k days). Now, if we wanted to save all pixels from our selected region, the number of rows would be multiplied by the number of pixels, which would quickly make the file very big and not practical to save in csv.\n",
    "\n",
    "While saving large datasets into csv is possible, it would take a very long time, and excel for example would not display the complete dataset past 2^20 rows. Instead we can extract the data into a netcdf format, which is tailored for large 3D-4D datasets:"
   ]
  },
  {
   "cell_type": "code",
   "execution_count": 4,
   "id": "80014f1e-354f-4c50-82fe-996102a9764b",
   "metadata": {},
   "outputs": [
    {
     "name": "stdout",
     "output_type": "stream",
     "text": [
      "CPU times: user 290 ms, sys: 70.6 ms, total: 360 ms\n",
      "Wall time: 2.66 s\n"
     ]
    }
   ],
   "source": [
    "%%time\n",
    "save_netcdf(data,filename = 'mySSTfile.nc')"
   ]
  },
  {
   "cell_type": "markdown",
   "id": "21aeb35a-7f36-4e56-be72-431db2489d47",
   "metadata": {},
   "source": [
    "It only took a little longer to save the daily data for all pixels into a netcdf format.\n",
    "\n",
    "***\n",
    "\n",
    "## 2) All in one\n",
    "\n",
    "If users simply want to use these tools to access, download and extract data, this all could be done in a few lines of code:"
   ]
  },
  {
   "cell_type": "code",
   "execution_count": 5,
   "id": "d7e82741-0da3-41b7-a41a-473b1000f149",
   "metadata": {},
   "outputs": [
    {
     "name": "stdout",
     "output_type": "stream",
     "text": [
      "CPU times: user 1.27 s, sys: 646 ms, total: 1.91 s\n",
      "Wall time: 52.3 s\n"
     ]
    },
    {
     "name": "stderr",
     "output_type": "stream",
     "text": [
      "distributed.client - ERROR - Failed to reconnect to scheduler after 1.00 seconds, closing client\n",
      "_GatheringFuture exception was never retrieved\n",
      "future: <_GatheringFuture finished exception=CancelledError()>\n",
      "asyncio.exceptions.CancelledError\n"
     ]
    }
   ],
   "source": [
    "%%time\n",
    "import sys\n",
    "import os\n",
    "sys.path.append('/home/jovyan/intake-aodn')\n",
    "import intake_aodn\n",
    "from intake_aodn.utils import get_local_cluster, save_netcdf\n",
    "\n",
    "client = get_local_cluster()\n",
    "\n",
    "data=intake_aodn.cat.aodn_s3.SST_L3S_1d_ngt(startdt='2018-01-01',\n",
    "                                          enddt='2020-12-31',\n",
    "                                          cropto=dict(latitude=slice(-28,-30),longitude=slice(110,112))).read()\n",
    "\n",
    "save_netcdf(data,filename = 'mySSTfile.nc')"
   ]
  },
  {
   "cell_type": "code",
   "execution_count": null,
   "id": "c26aad73-9609-40c3-ae11-e85c502d56c3",
   "metadata": {},
   "outputs": [],
   "source": []
  }
 ],
 "metadata": {
  "kernelspec": {
   "display_name": "Python 3 (ipykernel)",
   "language": "python",
   "name": "python3"
  },
  "language_info": {
   "codemirror_mode": {
    "name": "ipython",
    "version": 3
   },
   "file_extension": ".py",
   "mimetype": "text/x-python",
   "name": "python",
   "nbconvert_exporter": "python",
   "pygments_lexer": "ipython3",
   "version": "3.8.10"
  }
 },
 "nbformat": 4,
 "nbformat_minor": 5
}
